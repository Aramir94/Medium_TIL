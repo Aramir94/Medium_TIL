{
 "cells": [
  {
   "cell_type": "code",
   "execution_count": 4,
   "id": "bfd3a469",
   "metadata": {},
   "outputs": [
    {
     "name": "stdout",
     "output_type": "stream",
     "text": [
      "Requirement already satisfied: lxml in /opt/homebrew/Caskroom/miniforge/base/lib/python3.9/site-packages (4.9.1)\r\n"
     ]
    }
   ],
   "source": [
    "!pip install lxml"
   ]
  },
  {
   "cell_type": "code",
   "execution_count": 2,
   "id": "e8c7f4bc",
   "metadata": {
    "scrolled": true
   },
   "outputs": [
    {
     "name": "stdout",
     "output_type": "stream",
     "text": [
      "Requirement already satisfied: transformers in /opt/homebrew/Caskroom/miniforge/base/lib/python3.9/site-packages (4.20.1)\n",
      "Requirement already satisfied: wikipedia in /opt/homebrew/Caskroom/miniforge/base/lib/python3.9/site-packages (1.4.0)\n",
      "Requirement already satisfied: newspaper3k in /opt/homebrew/Caskroom/miniforge/base/lib/python3.9/site-packages (0.2.8)\n",
      "Requirement already satisfied: GoogleNews in /opt/homebrew/Caskroom/miniforge/base/lib/python3.9/site-packages (1.6.4)\n",
      "Requirement already satisfied: pyvis in /opt/homebrew/Caskroom/miniforge/base/lib/python3.9/site-packages (0.2.1)\n",
      "Requirement already satisfied: tqdm>=4.27 in /opt/homebrew/Caskroom/miniforge/base/lib/python3.9/site-packages (from transformers) (4.62.3)\n",
      "Requirement already satisfied: packaging>=20.0 in /Users/flycode77/.local/lib/python3.9/site-packages (from transformers) (20.9)\n",
      "Requirement already satisfied: tokenizers!=0.11.3,<0.13,>=0.11.1 in /opt/homebrew/Caskroom/miniforge/base/lib/python3.9/site-packages (from transformers) (0.12.1)\n",
      "Requirement already satisfied: regex!=2019.12.17 in /opt/homebrew/Caskroom/miniforge/base/lib/python3.9/site-packages (from transformers) (2022.3.2)\n",
      "Requirement already satisfied: requests in /opt/homebrew/Caskroom/miniforge/base/lib/python3.9/site-packages (from transformers) (2.26.0)\n",
      "Requirement already satisfied: filelock in /Users/flycode77/.local/lib/python3.9/site-packages (from transformers) (3.7.1)\n",
      "Requirement already satisfied: numpy>=1.17 in /opt/homebrew/Caskroom/miniforge/base/lib/python3.9/site-packages (from transformers) (1.23.0)\n",
      "Requirement already satisfied: pyyaml>=5.1 in /opt/homebrew/Caskroom/miniforge/base/lib/python3.9/site-packages (from transformers) (6.0)\n",
      "Requirement already satisfied: huggingface-hub<1.0,>=0.1.0 in /opt/homebrew/Caskroom/miniforge/base/lib/python3.9/site-packages (from transformers) (0.8.1)\n",
      "Requirement already satisfied: beautifulsoup4 in /opt/homebrew/Caskroom/miniforge/base/lib/python3.9/site-packages (from wikipedia) (4.10.0)\n",
      "Requirement already satisfied: jieba3k>=0.35.1 in /opt/homebrew/Caskroom/miniforge/base/lib/python3.9/site-packages (from newspaper3k) (0.35.1)\n",
      "Requirement already satisfied: tinysegmenter==0.3 in /opt/homebrew/Caskroom/miniforge/base/lib/python3.9/site-packages (from newspaper3k) (0.3)\n",
      "Requirement already satisfied: python-dateutil>=2.5.3 in /opt/homebrew/Caskroom/miniforge/base/lib/python3.9/site-packages (from newspaper3k) (2.8.2)\n",
      "Requirement already satisfied: tldextract>=2.0.1 in /opt/homebrew/Caskroom/miniforge/base/lib/python3.9/site-packages (from newspaper3k) (3.3.1)\n",
      "Requirement already satisfied: nltk>=3.2.1 in /opt/homebrew/Caskroom/miniforge/base/lib/python3.9/site-packages (from newspaper3k) (3.7)\n",
      "Requirement already satisfied: lxml>=3.6.0 in /opt/homebrew/Caskroom/miniforge/base/lib/python3.9/site-packages (from newspaper3k) (4.9.1)\n",
      "Requirement already satisfied: Pillow>=3.3.0 in /opt/homebrew/Caskroom/miniforge/base/lib/python3.9/site-packages (from newspaper3k) (9.0.0)\n",
      "Requirement already satisfied: cssselect>=0.9.2 in /opt/homebrew/Caskroom/miniforge/base/lib/python3.9/site-packages (from newspaper3k) (1.1.0)\n",
      "Requirement already satisfied: feedfinder2>=0.0.4 in /opt/homebrew/Caskroom/miniforge/base/lib/python3.9/site-packages (from newspaper3k) (0.0.4)\n",
      "Requirement already satisfied: feedparser>=5.2.1 in /opt/homebrew/Caskroom/miniforge/base/lib/python3.9/site-packages (from newspaper3k) (6.0.10)\n",
      "Requirement already satisfied: dateparser in /opt/homebrew/Caskroom/miniforge/base/lib/python3.9/site-packages (from GoogleNews) (1.1.1)\n",
      "Requirement already satisfied: networkx>=1.11 in /opt/homebrew/Caskroom/miniforge/base/lib/python3.9/site-packages (from pyvis) (2.8)\n",
      "Requirement already satisfied: jinja2>=2.9.6 in /opt/homebrew/Caskroom/miniforge/base/lib/python3.9/site-packages (from pyvis) (3.1.1)\n",
      "Requirement already satisfied: ipython>=5.3.0 in /opt/homebrew/Caskroom/miniforge/base/lib/python3.9/site-packages (from pyvis) (8.4.0)\n",
      "Requirement already satisfied: jsonpickle>=1.4.1 in /opt/homebrew/Caskroom/miniforge/base/lib/python3.9/site-packages (from pyvis) (2.2.0)\n",
      "Requirement already satisfied: soupsieve>1.2 in /opt/homebrew/Caskroom/miniforge/base/lib/python3.9/site-packages (from beautifulsoup4->wikipedia) (2.3.1)\n",
      "Requirement already satisfied: six in /opt/homebrew/Caskroom/miniforge/base/lib/python3.9/site-packages (from feedfinder2>=0.0.4->newspaper3k) (1.15.0)\n",
      "Requirement already satisfied: sgmllib3k in /opt/homebrew/Caskroom/miniforge/base/lib/python3.9/site-packages (from feedparser>=5.2.1->newspaper3k) (1.0.0)\n",
      "Requirement already satisfied: typing-extensions>=3.7.4.3 in /opt/homebrew/Caskroom/miniforge/base/lib/python3.9/site-packages (from huggingface-hub<1.0,>=0.1.0->transformers) (4.3.0)\n",
      "Requirement already satisfied: traitlets>=5 in /opt/homebrew/Caskroom/miniforge/base/lib/python3.9/site-packages (from ipython>=5.3.0->pyvis) (5.3.0)\n",
      "Requirement already satisfied: setuptools>=18.5 in /opt/homebrew/Caskroom/miniforge/base/lib/python3.9/site-packages (from ipython>=5.3.0->pyvis) (59.4.0)\n",
      "Requirement already satisfied: pickleshare in /opt/homebrew/Caskroom/miniforge/base/lib/python3.9/site-packages (from ipython>=5.3.0->pyvis) (0.7.5)\n",
      "Requirement already satisfied: prompt-toolkit!=3.0.0,!=3.0.1,<3.1.0,>=2.0.0 in /opt/homebrew/Caskroom/miniforge/base/lib/python3.9/site-packages (from ipython>=5.3.0->pyvis) (3.0.30)\n",
      "Requirement already satisfied: stack-data in /opt/homebrew/Caskroom/miniforge/base/lib/python3.9/site-packages (from ipython>=5.3.0->pyvis) (0.3.0)\n",
      "Requirement already satisfied: pygments>=2.4.0 in /opt/homebrew/Caskroom/miniforge/base/lib/python3.9/site-packages (from ipython>=5.3.0->pyvis) (2.12.0)\n",
      "Requirement already satisfied: decorator in /opt/homebrew/Caskroom/miniforge/base/lib/python3.9/site-packages (from ipython>=5.3.0->pyvis) (5.1.1)\n",
      "Requirement already satisfied: pexpect>4.3 in /Users/flycode77/.local/lib/python3.9/site-packages (from ipython>=5.3.0->pyvis) (4.8.0)\n",
      "Requirement already satisfied: jedi>=0.16 in /opt/homebrew/Caskroom/miniforge/base/lib/python3.9/site-packages (from ipython>=5.3.0->pyvis) (0.18.1)\n",
      "Requirement already satisfied: backcall in /opt/homebrew/Caskroom/miniforge/base/lib/python3.9/site-packages (from ipython>=5.3.0->pyvis) (0.2.0)\n",
      "Requirement already satisfied: matplotlib-inline in /opt/homebrew/Caskroom/miniforge/base/lib/python3.9/site-packages (from ipython>=5.3.0->pyvis) (0.1.3)\n",
      "Requirement already satisfied: appnope in /opt/homebrew/Caskroom/miniforge/base/lib/python3.9/site-packages (from ipython>=5.3.0->pyvis) (0.1.3)\n",
      "Requirement already satisfied: MarkupSafe>=2.0 in /opt/homebrew/Caskroom/miniforge/base/lib/python3.9/site-packages (from jinja2>=2.9.6->pyvis) (2.1.1)\n",
      "Requirement already satisfied: click in /opt/homebrew/Caskroom/miniforge/base/lib/python3.9/site-packages (from nltk>=3.2.1->newspaper3k) (8.0.3)\n",
      "Requirement already satisfied: joblib in /opt/homebrew/Caskroom/miniforge/base/lib/python3.9/site-packages (from nltk>=3.2.1->newspaper3k) (1.1.0)\n",
      "Requirement already satisfied: pyparsing>=2.0.2 in /opt/homebrew/Caskroom/miniforge/base/lib/python3.9/site-packages (from packaging>=20.0->transformers) (3.0.7)\n",
      "Requirement already satisfied: certifi>=2017.4.17 in /opt/homebrew/Caskroom/miniforge/base/lib/python3.9/site-packages (from requests->transformers) (2021.10.8)\n",
      "Requirement already satisfied: idna<4,>=2.5 in /opt/homebrew/Caskroom/miniforge/base/lib/python3.9/site-packages (from requests->transformers) (3.1)\n",
      "Requirement already satisfied: charset-normalizer~=2.0.0 in /opt/homebrew/Caskroom/miniforge/base/lib/python3.9/site-packages (from requests->transformers) (2.0.9)\n",
      "Requirement already satisfied: urllib3<1.27,>=1.21.1 in /opt/homebrew/Caskroom/miniforge/base/lib/python3.9/site-packages (from requests->transformers) (1.26.7)\n",
      "Requirement already satisfied: requests-file>=1.4 in /opt/homebrew/Caskroom/miniforge/base/lib/python3.9/site-packages (from tldextract>=2.0.1->newspaper3k) (1.5.1)\n",
      "Requirement already satisfied: tzlocal in /opt/homebrew/Caskroom/miniforge/base/lib/python3.9/site-packages (from dateparser->GoogleNews) (4.1)\n",
      "Requirement already satisfied: pytz in /opt/homebrew/Caskroom/miniforge/base/lib/python3.9/site-packages (from dateparser->GoogleNews) (2021.3)\n",
      "Requirement already satisfied: parso<0.9.0,>=0.8.0 in /opt/homebrew/Caskroom/miniforge/base/lib/python3.9/site-packages (from jedi>=0.16->ipython>=5.3.0->pyvis) (0.8.3)\n",
      "Requirement already satisfied: ptyprocess>=0.5 in /Users/flycode77/.local/lib/python3.9/site-packages (from pexpect>4.3->ipython>=5.3.0->pyvis) (0.7.0)\n",
      "Requirement already satisfied: wcwidth in /opt/homebrew/Caskroom/miniforge/base/lib/python3.9/site-packages (from prompt-toolkit!=3.0.0,!=3.0.1,<3.1.0,>=2.0.0->ipython>=5.3.0->pyvis) (0.2.5)\n"
     ]
    },
    {
     "name": "stdout",
     "output_type": "stream",
     "text": [
      "Requirement already satisfied: executing in /opt/homebrew/Caskroom/miniforge/base/lib/python3.9/site-packages (from stack-data->ipython>=5.3.0->pyvis) (0.8.3)\r\n",
      "Requirement already satisfied: pure-eval in /opt/homebrew/Caskroom/miniforge/base/lib/python3.9/site-packages (from stack-data->ipython>=5.3.0->pyvis) (0.2.2)\r\n",
      "Requirement already satisfied: asttokens in /opt/homebrew/Caskroom/miniforge/base/lib/python3.9/site-packages (from stack-data->ipython>=5.3.0->pyvis) (2.0.5)\r\n",
      "Requirement already satisfied: pytz-deprecation-shim in /opt/homebrew/Caskroom/miniforge/base/lib/python3.9/site-packages (from tzlocal->dateparser->GoogleNews) (0.1.0.post0)\r\n",
      "Requirement already satisfied: tzdata in /opt/homebrew/Caskroom/miniforge/base/lib/python3.9/site-packages (from pytz-deprecation-shim->tzlocal->dateparser->GoogleNews) (2021.5)\r\n"
     ]
    }
   ],
   "source": [
    "!pip install transformers wikipedia newspaper3k GoogleNews pyvis"
   ]
  },
  {
   "cell_type": "code",
   "execution_count": 5,
   "id": "c4aa4073",
   "metadata": {},
   "outputs": [],
   "source": [
    "from transformers import AutoModelForSeq2SeqLM, AutoTokenizer\n",
    "import math\n",
    "import torch\n",
    "import wikipedia\n",
    "from newspaper import Article, ArticleException \n",
    "from GoogleNews import GoogleNews\n",
    "import IPython"
   ]
  },
  {
   "cell_type": "code",
   "execution_count": 6,
   "id": "59659457",
   "metadata": {},
   "outputs": [
    {
     "data": {
      "application/vnd.jupyter.widget-view+json": {
       "model_id": "43464a8abaf34936b76c22a1882d15eb",
       "version_major": 2,
       "version_minor": 0
      },
      "text/plain": [
       "Downloading:   0%|          | 0.00/1.20k [00:00<?, ?B/s]"
      ]
     },
     "metadata": {},
     "output_type": "display_data"
    },
    {
     "data": {
      "application/vnd.jupyter.widget-view+json": {
       "model_id": "f858bb8a2dd24f00a3a2ce3cf9f3b17a",
       "version_major": 2,
       "version_minor": 0
      },
      "text/plain": [
       "Downloading:   0%|          | 0.00/780k [00:00<?, ?B/s]"
      ]
     },
     "metadata": {},
     "output_type": "display_data"
    },
    {
     "data": {
      "application/vnd.jupyter.widget-view+json": {
       "model_id": "44786dbeae8c450eb50ae07a8d6eb900",
       "version_major": 2,
       "version_minor": 0
      },
      "text/plain": [
       "Downloading:   0%|          | 0.00/446k [00:00<?, ?B/s]"
      ]
     },
     "metadata": {},
     "output_type": "display_data"
    },
    {
     "data": {
      "application/vnd.jupyter.widget-view+json": {
       "model_id": "24e692183781436986cc57aacd93cf00",
       "version_major": 2,
       "version_minor": 0
      },
      "text/plain": [
       "Downloading:   0%|          | 0.00/1.29M [00:00<?, ?B/s]"
      ]
     },
     "metadata": {},
     "output_type": "display_data"
    },
    {
     "data": {
      "application/vnd.jupyter.widget-view+json": {
       "model_id": "69499e32e36840dc9887fa4843a4bc21",
       "version_major": 2,
       "version_minor": 0
      },
      "text/plain": [
       "Downloading:   0%|          | 0.00/123 [00:00<?, ?B/s]"
      ]
     },
     "metadata": {},
     "output_type": "display_data"
    },
    {
     "data": {
      "application/vnd.jupyter.widget-view+json": {
       "model_id": "920186b08d1c450881c939daa60c3f66",
       "version_major": 2,
       "version_minor": 0
      },
      "text/plain": [
       "Downloading:   0%|          | 0.00/344 [00:00<?, ?B/s]"
      ]
     },
     "metadata": {},
     "output_type": "display_data"
    },
    {
     "data": {
      "application/vnd.jupyter.widget-view+json": {
       "model_id": "2f67d0f7bf804606af088466767c803d",
       "version_major": 2,
       "version_minor": 0
      },
      "text/plain": [
       "Downloading:   0%|          | 0.00/1.39k [00:00<?, ?B/s]"
      ]
     },
     "metadata": {},
     "output_type": "display_data"
    },
    {
     "data": {
      "application/vnd.jupyter.widget-view+json": {
       "model_id": "0836d683f3414c168c1b5d45d897cb4b",
       "version_major": 2,
       "version_minor": 0
      },
      "text/plain": [
       "Downloading:   0%|          | 0.00/1.51G [00:00<?, ?B/s]"
      ]
     },
     "metadata": {},
     "output_type": "display_data"
    }
   ],
   "source": [
    "# Load REBEL MODEL\n",
    "# Load model and tokenizer\n",
    "tokenizer = AutoTokenizer.from_pretrained(\"Babelscape/rebel-large\")\n",
    "model = AutoModelForSeq2SeqLM.from_pretrained(\"Babelscape/rebel-large\")"
   ]
  },
  {
   "cell_type": "code",
   "execution_count": 7,
   "id": "cb68b1b9",
   "metadata": {},
   "outputs": [],
   "source": [
    "def extract_relations_from_model_output(text):\n",
    "    relations = []\n",
    "    relation, subject, relation, object_ = '', '', '', ''\n",
    "    text = text.strip()\n",
    "    current = 'x'\n",
    "    text_replaced = text.replace(\"<s>\", \"\").replace(\"<pad>\", \"\").replace(\"</s>\", \"\")\n",
    "    for token in text_replaced.split():\n",
    "        if token == \"<triplet>\":\n",
    "            current = 't'\n",
    "            if relation != '':\n",
    "                relations.append({\n",
    "                    'head': subject.strip(),\n",
    "                    'type': relation.strip(),\n",
    "                    'tail': object_.strip()\n",
    "                })\n",
    "                relation = ''\n",
    "            subject = ''\n",
    "        elif token == \"<subj>\":\n",
    "            current = 's'\n",
    "            if relation != '':\n",
    "                relations.append({\n",
    "                    'head': subject.strip(),\n",
    "                    'type': relation.strip(),\n",
    "                    'tail': object_.strip()\n",
    "                })\n",
    "            object_ = ''\n",
    "        elif token == \"<obj>\":\n",
    "            current = 'o'\n",
    "            relation = ''\n",
    "        else:\n",
    "            if current == 't':\n",
    "                subject += ' ' + token\n",
    "            elif current == 's':\n",
    "                object_ += ' ' + token\n",
    "            elif current == 'o':\n",
    "                relation += ' ' + token\n",
    "    if subject != '' and relation != '' and object_ != '':\n",
    "        relations.append({\n",
    "            'head': subject.strip(),\n",
    "            'type': relation.strip(),\n",
    "            'tail': object_.strip()\n",
    "        })\n",
    "    return relations"
   ]
  },
  {
   "cell_type": "code",
   "execution_count": 8,
   "id": "b3930cff",
   "metadata": {},
   "outputs": [],
   "source": [
    "class KB():\n",
    "    def __init__(self):\n",
    "        self.relations = []\n",
    "\n",
    "    def are_relations_equal(self, r1, r2):\n",
    "        return all(r1[attr] == r2[attr] for attr in [\"head\", \"type\", \"tail\"])\n",
    "\n",
    "    def exists_relation(self, r1):\n",
    "        return any(self.are_relations_equal(r1, r2) for r2 in self.relations)\n",
    "\n",
    "    def add_relation(self, r):\n",
    "        if not self.exists_relation(r):\n",
    "            self.relations.append(r)\n",
    "\n",
    "    def print(self):\n",
    "        print(\"Relations:\")\n",
    "        for r in self.relations:\n",
    "            print(f\"  {r}\")"
   ]
  },
  {
   "cell_type": "code",
   "execution_count": 20,
   "id": "462ca56d",
   "metadata": {},
   "outputs": [],
   "source": [
    "def from_small_text_to_kb(text, verbose=False):\n",
    "    kb = KB()\n",
    "\n",
    "    # Tokenizer text\n",
    "    model_inputs = tokenizer(text, max_length=512, padding=True, truncation=True,\n",
    "                            return_tensors='pt')\n",
    "    if verbose:\n",
    "        print(f\"Num tokens: {len(model_inputs['input_ids'][0])}\")\n",
    "\n",
    "    # Generate\n",
    "    gen_kwargs = {\n",
    "        \"max_length\": 216,\n",
    "        \"length_penalty\": 0,\n",
    "        \"num_beams\": 3,\n",
    "        \"num_return_sequences\": 3\n",
    "    }\n",
    "    generated_tokens = model.generate(\n",
    "        **model_inputs,\n",
    "        **gen_kwargs,\n",
    "    )\n",
    "    decoded_preds = tokenizer.batch_decode(generated_tokens, skip_special_tokens=False)\n",
    "\n",
    "    # create kb\n",
    "    for sentence_pred in decoded_preds:\n",
    "        relations = extract_relations_from_model_output(sentence_pred)\n",
    "        for r in relations:\n",
    "            kb.add_relation(r)\n",
    "\n",
    "    return kb"
   ]
  },
  {
   "cell_type": "code",
   "execution_count": 11,
   "id": "f5ff5b0a",
   "metadata": {},
   "outputs": [
    {
     "name": "stdout",
     "output_type": "stream",
     "text": [
      "Num tokens: 133\n",
      "Relations:\n",
      "  {'head': 'Napoleon Bonaparte', 'type': 'date of birth', 'tail': '15 August 1769'}\n",
      "  {'head': 'Napoleon Bonaparte', 'type': 'date of death', 'tail': '5 May 1821'}\n",
      "  {'head': 'Napoleon Bonaparte', 'type': 'participant in', 'tail': 'French Revolution'}\n",
      "  {'head': 'Napoleon Bonaparte', 'type': 'conflict', 'tail': 'Revolutionary Wars'}\n",
      "  {'head': 'Revolutionary Wars', 'type': 'part of', 'tail': 'French Revolution'}\n",
      "  {'head': 'French Revolution', 'type': 'participant', 'tail': 'Napoleon Bonaparte'}\n",
      "  {'head': 'Revolutionary Wars', 'type': 'participant', 'tail': 'Napoleon Bonaparte'}\n"
     ]
    }
   ],
   "source": [
    "text = \"Napoleon Bonaparte (born Napoleone di Buonaparte; 15 August 1769 – 5 \" \\\n",
    "\"May 1821), and later known by his regnal name Napoleon I, was a French military \" \\\n",
    "\"and political leader who rose to prominence during the French Revolution and led \" \\\n",
    "\"several successful campaigns during the Revolutionary Wars. He was the de facto \" \\\n",
    "\"leader of the French Republic as First Consul from 1799 to 1804. As Napoleon I, \" \\\n",
    "\"he was Emperor of the French from 1804 until 1814 and again in 1815. Napoleon's \" \\\n",
    "\"political and cultural legacy has endured, and he has been one of the most \" \\\n",
    "\"celebrated and controversial leaders in world history.\"\n",
    "\n",
    "kb = from_small_text_to_kb(text, verbose=True)\n",
    "kb.print()\n",
    "# Num tokens: 133\n",
    "# Relations:\n",
    "#   {'head': 'Napoleon Bonaparte', 'type': 'date of birth', 'tail': '15 August 1769'}\n",
    "#   {'head': 'Napoleon Bonaparte', 'type': 'date of death', 'tail': '5 May 1821'}\n",
    "#   {'head': 'Napoleon Bonaparte', 'type': 'participant in', 'tail': 'French Revolution'}\n",
    "#   {'head': 'Napoleon Bonaparte', 'type': 'conflict', 'tail': 'Revolutionary Wars'}\n",
    "#   {'head': 'Revolutionary Wars', 'type': 'part of', 'tail': 'French Revolution'}\n",
    "#   {'head': 'French Revolution', 'type': 'participant', 'tail': 'Napoleon Bonaparte'}\n",
    "#   {'head': 'Revolutionary Wars', 'type': 'participant', 'tail': 'Napoleon Bonaparte'}"
   ]
  },
  {
   "cell_type": "markdown",
   "id": "9f66b6ce",
   "metadata": {},
   "source": [
    "## Split spans from long text to KB"
   ]
  },
  {
   "cell_type": "code",
   "execution_count": 12,
   "id": "a2dc9db1",
   "metadata": {},
   "outputs": [],
   "source": [
    "class KB():\n",
    "    def __init__(self):\n",
    "        self.relations = []\n",
    "\n",
    "    def are_relations_equal(self, r1, r2):\n",
    "        return all(r1[attr] == r2[attr] for attr in [\"head\", \"type\", \"tail\"])\n",
    "\n",
    "    def exists_relation(self, r1):\n",
    "        return any(self.are_relations_equal(r1, r2) for r2 in self.relations)\n",
    "\n",
    "    def merge_relations(self, r1):\n",
    "        r2 = [r for r in self.relations\n",
    "              if self.are_relations_equal(r1, r)][0]\n",
    "        spans_to_add = [span for span in r1[\"meta\"][\"spans\"]\n",
    "                        if span not in r2[\"meta\"][\"spans\"]]\n",
    "        r2[\"meta\"][\"spans\"] += spans_to_add\n",
    "\n",
    "    def add_relation(self, r):\n",
    "        if not self.exists_relation(r):\n",
    "            self.relations.append(r)\n",
    "        else:\n",
    "            self.merge_relations(r)\n",
    "\n",
    "    def print(self):\n",
    "        print(\"Relations:\")\n",
    "        for r in self.relations:\n",
    "            print(f\"  {r}\")"
   ]
  },
  {
   "cell_type": "code",
   "execution_count": 13,
   "id": "ba879777",
   "metadata": {},
   "outputs": [],
   "source": [
    "def from_text_to_kb(text, span_length=128, verbose=False):\n",
    "    # tokenize whole text\n",
    "    inputs = tokenizer([text], return_tensors=\"pt\")\n",
    "\n",
    "    # compute span boundaries\n",
    "    num_tokens = len(inputs[\"input_ids\"][0])\n",
    "    if verbose:\n",
    "        print(f\"Input has {num_tokens} tokens\")\n",
    "    num_spans = math.ceil(num_tokens / span_length)\n",
    "    if verbose:\n",
    "        print(f\"Input has {num_spans} spans\")\n",
    "    overlap = math.ceil((num_spans * span_length - num_tokens) / \n",
    "                        max(num_spans - 1, 1))\n",
    "    spans_boundaries = []\n",
    "    start = 0\n",
    "    for i in range(num_spans):\n",
    "        spans_boundaries.append([start + span_length * i,\n",
    "                                 start + span_length * (i + 1)])\n",
    "        start -= overlap\n",
    "    if verbose:\n",
    "        print(f\"Span boundaries are {spans_boundaries}\")\n",
    "\n",
    "    # transform input with spans\n",
    "    tensor_ids = [inputs[\"input_ids\"][0][boundary[0]:boundary[1]]\n",
    "                  for boundary in spans_boundaries]\n",
    "    tensor_masks = [inputs[\"attention_mask\"][0][boundary[0]:boundary[1]]\n",
    "                    for boundary in spans_boundaries]\n",
    "    inputs = {\n",
    "        \"input_ids\": torch.stack(tensor_ids),\n",
    "        \"attention_mask\": torch.stack(tensor_masks)\n",
    "    }\n",
    "\n",
    "    # generate relations\n",
    "    num_return_sequences = 3\n",
    "    gen_kwargs = {\n",
    "        \"max_length\": 256,\n",
    "        \"length_penalty\": 0,\n",
    "        \"num_beams\": 3,\n",
    "        \"num_return_sequences\": num_return_sequences\n",
    "    }\n",
    "    generated_tokens = model.generate(\n",
    "        **inputs,\n",
    "        **gen_kwargs,\n",
    "    )\n",
    "\n",
    "    # decode relations\n",
    "    decoded_preds = tokenizer.batch_decode(generated_tokens,\n",
    "                                           skip_special_tokens=False)\n",
    "\n",
    "    # create kb\n",
    "    kb = KB()\n",
    "    i = 0\n",
    "    for sentence_pred in decoded_preds:\n",
    "        current_span_index = i // num_return_sequences\n",
    "        relations = extract_relations_from_model_output(sentence_pred)\n",
    "        for relation in relations:\n",
    "            relation[\"meta\"] = {\n",
    "                \"spans\": [spans_boundaries[current_span_index]]\n",
    "            }\n",
    "            kb.add_relation(relation)\n",
    "        i += 1\n",
    "\n",
    "    return kb"
   ]
  },
  {
   "cell_type": "code",
   "execution_count": 14,
   "id": "b5792892",
   "metadata": {},
   "outputs": [
    {
     "name": "stdout",
     "output_type": "stream",
     "text": [
      "Input has 726 tokens\n",
      "Input has 6 spans\n",
      "Span boundaries are [[0, 128], [119, 247], [238, 366], [357, 485], [476, 604], [595, 723]]\n",
      "Relations:\n",
      "  {'head': 'Napoleon Bonaparte', 'type': 'date of birth', 'tail': '15 August 1769', 'meta': {'spans': [[0, 128]]}}\n",
      "  {'head': 'Napoleon Bonaparte', 'type': 'date of death', 'tail': '5 May 1821', 'meta': {'spans': [[0, 128]]}}\n",
      "  {'head': 'Napoleon Bonaparte', 'type': 'participant in', 'tail': 'French Revolution', 'meta': {'spans': [[0, 128]]}}\n",
      "  {'head': 'Napoleon Bonaparte', 'type': 'conflict', 'tail': 'Revolutionary Wars', 'meta': {'spans': [[0, 128]]}}\n",
      "  {'head': 'Revolutionary Wars', 'type': 'part of', 'tail': 'French Revolution', 'meta': {'spans': [[0, 128]]}}\n",
      "  {'head': 'French Revolution', 'type': 'participant', 'tail': 'Napoleon Bonaparte', 'meta': {'spans': [[0, 128]]}}\n",
      "  {'head': 'Revolutionary Wars', 'type': 'participant', 'tail': 'Napoleon Bonaparte', 'meta': {'spans': [[0, 128]]}}\n",
      "  {'head': 'French Revolution', 'type': 'country', 'tail': 'French Republic', 'meta': {'spans': [[0, 128]]}}\n",
      "  {'head': 'Napoleon', 'type': 'place of birth', 'tail': 'Corsica', 'meta': {'spans': [[119, 247]]}}\n",
      "  {'head': 'French Directory', 'type': 'facet of', 'tail': 'French Revolution', 'meta': {'spans': [[119, 247]]}}\n",
      "  {'head': 'Napoleon', 'type': 'participant in', 'tail': 'French Revolution', 'meta': {'spans': [[119, 247]]}}\n",
      "  {'head': 'Fourth Coalition', 'type': 'start time', 'tail': '1806', 'meta': {'spans': [[238, 366]]}}\n",
      "  {'head': 'Ulm Campaign', 'type': 'part of', 'tail': 'War of the Third Coalition', 'meta': {'spans': [[238, 366]]}}\n",
      "  {'head': 'Battle of Austerlitz', 'type': 'part of', 'tail': 'War of the Third Coalition', 'meta': {'spans': [[238, 366]]}}\n",
      "  {'head': 'War of the Third Coalition', 'type': 'start time', 'tail': '1805', 'meta': {'spans': [[238, 366]]}}\n",
      "  {'head': 'Battle of Wagram', 'type': 'part of', 'tail': 'War of the Fifth Coalition', 'meta': {'spans': [[357, 485]]}}\n",
      "  {'head': 'Fourth Coalition', 'type': 'followed by', 'tail': 'War of the Fifth Coalition', 'meta': {'spans': [[357, 485]]}}\n",
      "  {'head': 'Battle of Leipzig', 'type': 'part of', 'tail': 'Sixth Coalition against France', 'meta': {'spans': [[476, 604]]}}\n",
      "  {'head': 'Sixth Coalition against France', 'type': 'start time', 'tail': '1813', 'meta': {'spans': [[476, 604]]}}\n",
      "  {'head': 'Sixth Coalition', 'type': 'start time', 'tail': '1813', 'meta': {'spans': [[476, 604]]}}\n",
      "  {'head': 'Seventh Coalition', 'type': 'has part', 'tail': 'Battle of Waterloo', 'meta': {'spans': [[595, 723]]}}\n",
      "  {'head': 'Battle of Waterloo', 'type': 'part of', 'tail': 'Seventh Coalition', 'meta': {'spans': [[595, 723]]}}\n",
      "  {'head': 'Seventh Coalition', 'type': 'start time', 'tail': 'June 1815', 'meta': {'spans': [[595, 723]]}}\n"
     ]
    }
   ],
   "source": [
    "text = \"\"\"\n",
    "Napoleon Bonaparte (born Napoleone di Buonaparte; 15 August 1769 – 5 May 1821), and later known by his regnal name Napoleon I, was a French military and political leader who rose to prominence during the French Revolution and led several successful campaigns during the Revolutionary Wars. He was the de facto leader of the French Republic as First Consul from 1799 to 1804. As Napoleon I, he was Emperor of the French from 1804 until 1814 and again in 1815. Napoleon's political and cultural legacy has endured, and he has been one of the most celebrated and controversial leaders in world history. Napoleon was born on the island of Corsica not long after its annexation by the Kingdom of France.[5] He supported the French Revolution in 1789 while serving in the French army, and tried to spread its ideals to his native Corsica. He rose rapidly in the Army after he saved the governing French Directory by firing on royalist insurgents. In 1796, he began a military campaign against the Austrians and their Italian allies, scoring decisive victories and becoming a national hero. Two years later, he led a military expedition to Egypt that served as a springboard to political power. He engineered a coup in November 1799 and became First Consul of the Republic. Differences with the British meant that the French faced the War of the Third Coalition by 1805. Napoleon shattered this coalition with victories in the Ulm Campaign, and at the Battle of Austerlitz, which led to the dissolving of the Holy Roman Empire. In 1806, the Fourth Coalition took up arms against him because Prussia became worried about growing French influence on the continent. Napoleon knocked out Prussia at the battles of Jena and Auerstedt, marched the Grande Armée into Eastern Europe, annihilating the Russians in June 1807 at Friedland, and forcing the defeated nations of the Fourth Coalition to accept the Treaties of Tilsit. Two years later, the Austrians challenged the French again during the War of the Fifth Coalition, but Napoleon solidified his grip over Europe after triumphing at the Battle of Wagram. Hoping to extend the Continental System, his embargo against Britain, Napoleon invaded the Iberian Peninsula and declared his brother Joseph King of Spain in 1808. The Spanish and the Portuguese revolted in the Peninsular War, culminating in defeat for Napoleon's marshals. Napoleon launched an invasion of Russia in the summer of 1812. The resulting campaign witnessed the catastrophic retreat of Napoleon's Grande Armée. In 1813, Prussia and Austria joined Russian forces in a Sixth Coalition against France. A chaotic military campaign resulted in a large coalition army defeating Napoleon at the Battle of Leipzig in October 1813. The coalition invaded France and captured Paris, forcing Napoleon to abdicate in April 1814. He was exiled to the island of Elba, between Corsica and Italy. In France, the Bourbons were restored to power. However, Napoleon escaped Elba in February 1815 and took control of France.[6][7] The Allies responded by forming a Seventh Coalition, which defeated Napoleon at the Battle of Waterloo in June 1815. The British exiled him to the remote island of Saint Helena in the Atlantic, where he died in 1821 at the age of 51. Napoleon had an extensive impact on the modern world, bringing liberal reforms to the many countries he conquered, especially the Low Countries, Switzerland, and parts of modern Italy and Germany. He implemented liberal policies in France and Western Europe.\n",
    "\"\"\"\n",
    "\n",
    "kb = from_text_to_kb(text, verbose=True)\n",
    "kb.print()\n",
    "# Input has 726 tokens\n",
    "# Input has 6 spans\n",
    "# Span boundaries are [[0, 128], [119, 247], [238, 366], [357, 485], [476, 604], [595, 723]]\n",
    "# Relations:\n",
    "#   {'head': 'Napoleon Bonaparte', 'type': 'date of birth',\n",
    "#    'tail': '15 August 1769', 'meta': {'spans': [[0, 128]]}}\n",
    "#   ...\n",
    "#   {'head': 'Napoleon', 'type': 'place of birth',\n",
    "#    'tail': 'Corsica', 'meta': {'spans': [[119, 247]]}}\n",
    "#   ...\n",
    "#   {'head': 'Fourth Coalition', 'type': 'start time',\n",
    "#    'tail': '1806', 'meta': {'spans': [[238, 366]]}}\n",
    "#   ..."
   ]
  },
  {
   "cell_type": "markdown",
   "id": "1aa94b6c",
   "metadata": {},
   "source": [
    "# Filter and normalize entities with Wikipedia\n",
    "\n",
    "- remove all entities that doesn't have a page on Wikipedia\n",
    "- merge entities if they have the same wikipedia page"
   ]
  },
  {
   "cell_type": "code",
   "execution_count": null,
   "id": "250be62c",
   "metadata": {},
   "outputs": [],
   "source": [
    "class KB():\n",
    "    def __init__(self):\n",
    "        self.entities = {}\n",
    "        self.relations = []\n",
    "\n",
    "    def are_relations_equal(self, r1, r2):\n",
    "        return all(r1[attr] == r2[attr] for attr in [\"head\", \"type\", \"tail\"])\n",
    "\n",
    "    def exists_relation(self, r1):\n",
    "        return any(self.are_relations_equal(r1, r2) for r2 in self.relations)\n",
    "\n",
    "    def merge_relations(self, r1):\n",
    "        r2 = [r for r in self.relations\n",
    "              if self.are_relations_equal(r1, r)][0]\n",
    "        spans_to_add = [span for span in r1[\"meta\"][\"spans\"]\n",
    "                        if span not in r2[\"meta\"][\"spans\"]]\n",
    "        r2[\"meta\"][\"spans\"] += spans_to_add\n",
    "\n",
    "    def get_wikipedia_data(self, candidate_entity):\n",
    "        try:\n",
    "            page = wikipedia.page(candidate_entity, auto_suggest=False)\n",
    "            entity_data = {\n",
    "                \"title\": page.title,\n",
    "                \"url\": page.url,\n",
    "                \"summary\": page.summary\n",
    "            }\n",
    "            return entity_data\n",
    "        except:\n",
    "            return None\n",
    "\n",
    "    def add_entity(self, e):\n",
    "        self.entities[e[\"title\"]] = {k:v for k,v in e.items() if k != \"title\"}\n",
    "\n",
    "    def add_relation(self, r):\n",
    "        # check on wikipedia\n",
    "        candidate_entities = [r[\"head\"], r[\"tail\"]]\n",
    "        entities = [self.get_wikipedia_data(ent) for ent in candidate_entities]\n",
    "\n",
    "        # if one entity does not exist, stop\n",
    "        if any(ent is None for ent in entities):\n",
    "            return\n",
    "\n",
    "        # manage new entities\n",
    "        for e in entities:\n",
    "            self.add_entity(e)\n",
    "\n",
    "        # rename relation entities with their wikipedia titles\n",
    "        r[\"head\"] = entities[0][\"title\"]\n",
    "        r[\"tail\"] = entities[1][\"title\"]\n",
    "\n",
    "        # manage new relation\n",
    "        if not self.exists_relation(r):\n",
    "            self.relations.append(r)\n",
    "        else:\n",
    "            self.merge_relations(r)\n",
    "\n",
    "    def print(self):\n",
    "        print(\"Entities:\")\n",
    "        for e in self.entities.items():\n",
    "            print(f\"  {e}\")\n",
    "        print(\"Relations:\")\n",
    "        for r in self.relations:\n",
    "            print(f\"  {r}\")"
   ]
  },
  {
   "cell_type": "code",
   "execution_count": 15,
   "id": "bc4ea81d",
   "metadata": {},
   "outputs": [
    {
     "name": "stdout",
     "output_type": "stream",
     "text": [
      "Relations:\n",
      "  {'head': 'Napoleon Bonaparte', 'type': 'date of birth', 'tail': '15 August 1769', 'meta': {'spans': [[0, 128]]}}\n",
      "  {'head': 'Napoleon Bonaparte', 'type': 'date of death', 'tail': '5 May 1821', 'meta': {'spans': [[0, 128]]}}\n",
      "  {'head': 'Napoleon Bonaparte', 'type': 'participant in', 'tail': 'French Revolution', 'meta': {'spans': [[0, 128]]}}\n",
      "  {'head': 'Napoleon Bonaparte', 'type': 'conflict', 'tail': 'Revolutionary Wars', 'meta': {'spans': [[0, 128]]}}\n",
      "  {'head': 'Revolutionary Wars', 'type': 'part of', 'tail': 'French Revolution', 'meta': {'spans': [[0, 128]]}}\n",
      "  {'head': 'French Revolution', 'type': 'participant', 'tail': 'Napoleon Bonaparte', 'meta': {'spans': [[0, 128]]}}\n",
      "  {'head': 'Revolutionary Wars', 'type': 'participant', 'tail': 'Napoleon Bonaparte', 'meta': {'spans': [[0, 128]]}}\n",
      "  {'head': 'French Revolution', 'type': 'country', 'tail': 'French Republic', 'meta': {'spans': [[0, 128]]}}\n",
      "  {'head': 'Napoleon', 'type': 'place of birth', 'tail': 'Corsica', 'meta': {'spans': [[119, 247]]}}\n",
      "  {'head': 'French Directory', 'type': 'facet of', 'tail': 'French Revolution', 'meta': {'spans': [[119, 247]]}}\n",
      "  {'head': 'Napoleon', 'type': 'participant in', 'tail': 'French Revolution', 'meta': {'spans': [[119, 247]]}}\n",
      "  {'head': 'Fourth Coalition', 'type': 'start time', 'tail': '1806', 'meta': {'spans': [[238, 366]]}}\n",
      "  {'head': 'Ulm Campaign', 'type': 'part of', 'tail': 'War of the Third Coalition', 'meta': {'spans': [[238, 366]]}}\n",
      "  {'head': 'Battle of Austerlitz', 'type': 'part of', 'tail': 'War of the Third Coalition', 'meta': {'spans': [[238, 366]]}}\n",
      "  {'head': 'War of the Third Coalition', 'type': 'start time', 'tail': '1805', 'meta': {'spans': [[238, 366]]}}\n",
      "  {'head': 'Battle of Wagram', 'type': 'part of', 'tail': 'War of the Fifth Coalition', 'meta': {'spans': [[357, 485]]}}\n",
      "  {'head': 'Fourth Coalition', 'type': 'followed by', 'tail': 'War of the Fifth Coalition', 'meta': {'spans': [[357, 485]]}}\n",
      "  {'head': 'Battle of Leipzig', 'type': 'part of', 'tail': 'Sixth Coalition against France', 'meta': {'spans': [[476, 604]]}}\n",
      "  {'head': 'Sixth Coalition against France', 'type': 'start time', 'tail': '1813', 'meta': {'spans': [[476, 604]]}}\n",
      "  {'head': 'Sixth Coalition', 'type': 'start time', 'tail': '1813', 'meta': {'spans': [[476, 604]]}}\n",
      "  {'head': 'Seventh Coalition', 'type': 'has part', 'tail': 'Battle of Waterloo', 'meta': {'spans': [[595, 723]]}}\n",
      "  {'head': 'Battle of Waterloo', 'type': 'part of', 'tail': 'Seventh Coalition', 'meta': {'spans': [[595, 723]]}}\n",
      "  {'head': 'Seventh Coalition', 'type': 'start time', 'tail': 'June 1815', 'meta': {'spans': [[595, 723]]}}\n"
     ]
    }
   ],
   "source": [
    "text = \"\"\"\n",
    "Napoleon Bonaparte (born Napoleone di Buonaparte; 15 August 1769 – 5 May 1821), and later known by his regnal name Napoleon I, was a French military and political leader who rose to prominence during the French Revolution and led several successful campaigns during the Revolutionary Wars. He was the de facto leader of the French Republic as First Consul from 1799 to 1804. As Napoleon I, he was Emperor of the French from 1804 until 1814 and again in 1815. Napoleon's political and cultural legacy has endured, and he has been one of the most celebrated and controversial leaders in world history. Napoleon was born on the island of Corsica not long after its annexation by the Kingdom of France.[5] He supported the French Revolution in 1789 while serving in the French army, and tried to spread its ideals to his native Corsica. He rose rapidly in the Army after he saved the governing French Directory by firing on royalist insurgents. In 1796, he began a military campaign against the Austrians and their Italian allies, scoring decisive victories and becoming a national hero. Two years later, he led a military expedition to Egypt that served as a springboard to political power. He engineered a coup in November 1799 and became First Consul of the Republic. Differences with the British meant that the French faced the War of the Third Coalition by 1805. Napoleon shattered this coalition with victories in the Ulm Campaign, and at the Battle of Austerlitz, which led to the dissolving of the Holy Roman Empire. In 1806, the Fourth Coalition took up arms against him because Prussia became worried about growing French influence on the continent. Napoleon knocked out Prussia at the battles of Jena and Auerstedt, marched the Grande Armée into Eastern Europe, annihilating the Russians in June 1807 at Friedland, and forcing the defeated nations of the Fourth Coalition to accept the Treaties of Tilsit. Two years later, the Austrians challenged the French again during the War of the Fifth Coalition, but Napoleon solidified his grip over Europe after triumphing at the Battle of Wagram. Hoping to extend the Continental System, his embargo against Britain, Napoleon invaded the Iberian Peninsula and declared his brother Joseph King of Spain in 1808. The Spanish and the Portuguese revolted in the Peninsular War, culminating in defeat for Napoleon's marshals. Napoleon launched an invasion of Russia in the summer of 1812. The resulting campaign witnessed the catastrophic retreat of Napoleon's Grande Armée. In 1813, Prussia and Austria joined Russian forces in a Sixth Coalition against France. A chaotic military campaign resulted in a large coalition army defeating Napoleon at the Battle of Leipzig in October 1813. The coalition invaded France and captured Paris, forcing Napoleon to abdicate in April 1814. He was exiled to the island of Elba, between Corsica and Italy. In France, the Bourbons were restored to power. However, Napoleon escaped Elba in February 1815 and took control of France.[6][7] The Allies responded by forming a Seventh Coalition, which defeated Napoleon at the Battle of Waterloo in June 1815. The British exiled him to the remote island of Saint Helena in the Atlantic, where he died in 1821 at the age of 51. Napoleon had an extensive impact on the modern world, bringing liberal reforms to the many countries he conquered, especially the Low Countries, Switzerland, and parts of modern Italy and Germany. He implemented liberal policies in France and Western Europe.\n",
    "\"\"\"\n",
    "\n",
    "kb = from_text_to_kb(text)\n",
    "kb.print()\n",
    "# Entities:\n",
    "#  ('Napoleon', {'url': 'https://en.wikipedia.org/wiki/Napoleon',\n",
    "#   'summary': \"Napoleon Bonaparte (born Napoleone di Buonaparte; 15 August ...\"})\n",
    "#  ('French Revolution', {'url': 'https://en.wikipedia.org/wiki/French_Revolution',\n",
    "#   'summary': 'The French Revolution (French: Révolution française...\"})\n",
    "#  ...\n",
    "# Relations:\n",
    "#  {'head': 'Napoleon', 'type': 'participant in', 'tail': 'French Revolution',\n",
    "#   'meta': {'spans': [[0, 128], [119, 247]]}}\n",
    "#  {'head': 'French Revolution', 'type': 'participant', 'tail': 'Napoleon',\n",
    "#   'meta': {'spans': [[0, 128]]}}\n",
    "#  ..."
   ]
  },
  {
   "cell_type": "markdown",
   "id": "2350d12f",
   "metadata": {},
   "source": [
    "# Extract Web Article"
   ]
  },
  {
   "cell_type": "code",
   "execution_count": 25,
   "id": "847d877e",
   "metadata": {},
   "outputs": [],
   "source": [
    "def from_text_to_kb(text, article_url, span_length=128, article_title=None,\n",
    "                    article_publish_date=None, verbose=False):\n",
    "    # tokenize whole text\n",
    "    inputs = tokenizer([text], return_tensors=\"pt\")\n",
    "\n",
    "    # compute span boundaries\n",
    "    num_tokens = len(inputs[\"input_ids\"][0])\n",
    "    if verbose:\n",
    "        print(f\"Input has {num_tokens} tokens\")\n",
    "    num_spans = math.ceil(num_tokens / span_length)\n",
    "    if verbose:\n",
    "        print(f\"Input has {num_spans} spans\")\n",
    "    overlap = math.ceil((num_spans * span_length - num_tokens) / \n",
    "                        max(num_spans - 1, 1))\n",
    "    spans_boundaries = []\n",
    "    start = 0\n",
    "    for i in range(num_spans):\n",
    "        spans_boundaries.append([start + span_length * i,\n",
    "                                 start + span_length * (i + 1)])\n",
    "        start -= overlap\n",
    "    if verbose:\n",
    "        print(f\"Span boundaries are {spans_boundaries}\")\n",
    "\n",
    "    # transform input with spans\n",
    "    tensor_ids = [inputs[\"input_ids\"][0][boundary[0]:boundary[1]]\n",
    "                  for boundary in spans_boundaries]\n",
    "    tensor_masks = [inputs[\"attention_mask\"][0][boundary[0]:boundary[1]]\n",
    "                    for boundary in spans_boundaries]\n",
    "    inputs = {\n",
    "        \"input_ids\": torch.stack(tensor_ids),\n",
    "        \"attention_mask\": torch.stack(tensor_masks)\n",
    "    }\n",
    "\n",
    "    # generate relations\n",
    "    num_return_sequences = 3\n",
    "    gen_kwargs = {\n",
    "        \"max_length\": 256,\n",
    "        \"length_penalty\": 0,\n",
    "        \"num_beams\": 3,\n",
    "        \"num_return_sequences\": num_return_sequences\n",
    "    }\n",
    "    generated_tokens = model.generate(\n",
    "        **inputs,\n",
    "        **gen_kwargs,\n",
    "    )\n",
    "\n",
    "    # decode relations\n",
    "    decoded_preds = tokenizer.batch_decode(generated_tokens,\n",
    "                                           skip_special_tokens=False)\n",
    "\n",
    "    # create kb\n",
    "    kb = KB()\n",
    "    i = 0\n",
    "    for sentence_pred in decoded_preds:\n",
    "        current_span_index = i // num_return_sequences\n",
    "        relations = extract_relations_from_model_output(sentence_pred)\n",
    "        for relation in relations:\n",
    "            relation[\"meta\"] = {\n",
    "                article_url: {\n",
    "                    \"spans\": [spans_boundaries[current_span_index]]\n",
    "                }\n",
    "            }\n",
    "            kb.add_relation(relation, article_title, article_publish_date)\n",
    "        i += 1\n",
    "\n",
    "    return kb"
   ]
  },
  {
   "cell_type": "code",
   "execution_count": 26,
   "id": "cfc475cf",
   "metadata": {},
   "outputs": [],
   "source": [
    "class KB():\n",
    "    def __init__(self):\n",
    "        self.entities = {} # { entity_title: {...} }\n",
    "        self.relations = [] # [ head: entity_title, type: ..., tail: entity_title,\n",
    "          # meta: { article_url: { spans: [...] } } ]\n",
    "        self.sources = {} # { article_url: {...} }\n",
    "\n",
    "    def merge_with_kb(self, kb2):\n",
    "        for r in kb2.relations:\n",
    "            article_url = list(r[\"meta\"].keys())[0]\n",
    "            source_data = kb2.sources[article_url]\n",
    "            self.add_relation(r, source_data[\"article_title\"],\n",
    "                              source_data[\"article_publish_date\"])\n",
    "\n",
    "    def are_relations_equal(self, r1, r2):\n",
    "        return all(r1[attr] == r2[attr] for attr in [\"head\", \"type\", \"tail\"])\n",
    "\n",
    "    def exists_relation(self, r1):\n",
    "        return any(self.are_relations_equal(r1, r2) for r2 in self.relations)\n",
    "\n",
    "    def merge_relations(self, r2):\n",
    "        r1 = [r for r in self.relations\n",
    "              if self.are_relations_equal(r2, r)][0]\n",
    "\n",
    "        # if different article\n",
    "        article_url = list(r2[\"meta\"].keys())[0]\n",
    "        if article_url not in r1[\"meta\"]:\n",
    "            r1[\"meta\"][article_url] = r2[\"meta\"][article_url]\n",
    "\n",
    "        # if existing article\n",
    "        else:\n",
    "            spans_to_add = [span for span in r2[\"meta\"][article_url][\"spans\"]\n",
    "                            if span not in r1[\"meta\"][article_url][\"spans\"]]\n",
    "            r1[\"meta\"][article_url][\"spans\"] += spans_to_add\n",
    "\n",
    "    def get_wikipedia_data(self, candidate_entity):\n",
    "        try:\n",
    "            page = wikipedia.page(candidate_entity, auto_suggest=False)\n",
    "            entity_data = {\n",
    "                \"title\": page.title,\n",
    "                \"url\": page.url,\n",
    "                \"summary\": page.summary\n",
    "            }\n",
    "            return entity_data\n",
    "        except:\n",
    "            return None\n",
    "\n",
    "    def add_entity(self, e):\n",
    "        self.entities[e[\"title\"]] = {k:v for k,v in e.items() if k != \"title\"}\n",
    "\n",
    "    def add_relation(self, r, article_title, article_publish_date):\n",
    "        # check on wikipedia\n",
    "        candidate_entities = [r[\"head\"], r[\"tail\"]]\n",
    "        entities = [self.get_wikipedia_data(ent) for ent in candidate_entities]\n",
    "\n",
    "        # if one entity does not exist, stop\n",
    "        if any(ent is None for ent in entities):\n",
    "            return\n",
    "\n",
    "        # manage new entities\n",
    "        for e in entities:\n",
    "            self.add_entity(e)\n",
    "\n",
    "        # rename relation entities with their wikipedia titles\n",
    "        r[\"head\"] = entities[0][\"title\"]\n",
    "        r[\"tail\"] = entities[1][\"title\"]\n",
    "\n",
    "        # add source if not in kb\n",
    "        article_url = list(r[\"meta\"].keys())[0]\n",
    "        if article_url not in self.sources:\n",
    "            self.sources[article_url] = {\n",
    "                \"article_title\": article_title,\n",
    "                \"article_publish_date\": article_publish_date\n",
    "            }\n",
    "\n",
    "        # manage new relation\n",
    "        if not self.exists_relation(r):\n",
    "            self.relations.append(r)\n",
    "        else:\n",
    "            self.merge_relations(r)\n",
    "\n",
    "    def print(self):\n",
    "        print(\"Entities:\")\n",
    "        for e in self.entities.items():\n",
    "            print(f\"  {e}\")\n",
    "        print(\"Relations:\")\n",
    "        for r in self.relations:\n",
    "            print(f\"  {r}\")\n",
    "        print(\"Sources:\")\n",
    "        for s in self.sources.items():\n",
    "            print(f\"  {s}\")"
   ]
  },
  {
   "cell_type": "code",
   "execution_count": 28,
   "id": "aa594a10",
   "metadata": {},
   "outputs": [],
   "source": [
    "def get_article(url):\n",
    "    article = Article(url)\n",
    "    article.download()\n",
    "    article.parse()\n",
    "    return article\n",
    "\n",
    "def from_url_to_kb(url):\n",
    "    article = get_article(url)\n",
    "    config = {\n",
    "        \"article_title\": article.title,\n",
    "        \"article_publish_date\": article.publish_date\n",
    "    }\n",
    "    kb = from_text_to_kb(article.text, article.url, **config)\n",
    "    return kb"
   ]
  },
  {
   "cell_type": "code",
   "execution_count": 29,
   "id": "5724745a",
   "metadata": {},
   "outputs": [
    {
     "name": "stderr",
     "output_type": "stream",
     "text": [
      "/opt/homebrew/Caskroom/miniforge/base/envs/tensor/lib/python3.8/site-packages/wikipedia/wikipedia.py:389: GuessedAtParserWarning: No parser was explicitly specified, so I'm using the best available HTML parser for this system (\"lxml\"). This usually isn't a problem, but if you run this code on another system, or in a different virtual environment, it may use a different parser and behave differently.\n",
      "\n",
      "The code that caused this warning is on line 389 of the file /opt/homebrew/Caskroom/miniforge/base/envs/tensor/lib/python3.8/site-packages/wikipedia/wikipedia.py. To get rid of this warning, pass the additional argument 'features=\"lxml\"' to the BeautifulSoup constructor.\n",
      "\n",
      "  lis = BeautifulSoup(html).find_all('li')\n"
     ]
    },
    {
     "name": "stdout",
     "output_type": "stream",
     "text": [
      "Entities:\n",
      "  ('MicroStrategy', {'url': 'https://en.wikipedia.org/wiki/MicroStrategy', 'summary': \"MicroStrategy Incorporated is an American company that provides business intelligence (BI), mobile software, and cloud-based services.\\nFounded in 1989 by Michael J. Saylor, Sanju Bansal, and Thomas Spahr, the firm develops software to analyze internal and external data in order to make business decisions and to develop mobile apps. It is a public company headquartered in Tysons Corner, Virginia, in the Washington metropolitan area. Its primary business analytics competitors include SAP AG Business Objects, IBM Cognos, and Oracle Corporation's BI Platform. Saylor is the CEO and chairman of the board.\\n\\n\"})\n",
      "  ('Michael J. Saylor', {'url': 'https://en.wikipedia.org/wiki/Michael_J._Saylor', 'summary': 'Michael J. Saylor (born February 4, 1965) is an American entrepreneur and business executive, who co-founded and leads MicroStrategy, a company that provides business intelligence, mobile software, and cloud-based services. Saylor authored the 2012 book The Mobile Wave: How Mobile Intelligence Will Change Everything. He is also the sole trustee of Saylor Academy, a provider of free online education. As of 2016, Saylor has been granted 31 patents and has 9 additional applications under review.'})\n",
      "  ('Terra (blockchain)', {'url': 'https://en.wikipedia.org/wiki/Terra_(blockchain)', 'summary': 'Terra is a blockchain protocol and payment platform used for algorithmic stablecoins. The project was created in 2018 by Terraform Labs, a startup co-founded by Do Kwon and Daniel Shin. It is most known for its Terra stablecoin and the associated Luna reserve asset cryptocurrency. In May 2022, the Terra blockchain was temporarily halted after the collapse of the stablecoin TerraUSD (UST) and Luna, in an event that wiped out almost $45 billion in market capitalisation within a week.\\n\\n'})\n",
      "  ('Stablecoin', {'url': 'https://en.wikipedia.org/wiki/Stablecoin', 'summary': 'Stablecoins are cryptocurrencies where the price is designed to be pegged to a cryptocurrency, fiat money, or to exchange-traded commodities (such as precious metals or industrial metals).'})\n",
      "  ('Bitcoin', {'url': 'https://en.wikipedia.org/wiki/Bitcoin', 'summary': 'Bitcoin (₿) is a decentralized digital currency that can be transferred on the peer-to-peer bitcoin network. Bitcoin transactions are verified by network nodes through cryptography and recorded in a public distributed ledger called a blockchain. The cryptocurrency was invented in 2008 by an unknown person or group of people using the name Satoshi Nakamoto. The currency began use in 2009 when its implementation was released as open-source software.:\\u200ach. 1\\u200aBitcoin has been described as an economic bubble by at least eight Nobel Memorial Prize in Economic Sciences recipients.The word bitcoin was defined in a white paper published on 31 October 2008. It is a compound of the words bit and coin. No uniform convention for bitcoin capitalization exists; some sources use Bitcoin, capitalized, to refer to the technology and network and bitcoin, lowercase, for the unit of account. The Wall Street Journal, The Chronicle of Higher Education, and the Oxford English Dictionary advocate the use of lowercase bitcoin in all cases. It is also not uncommon for cryptocurrency in general to be called \"bitcoin\" (in a similar sense to \"Xerox\" being used for any photocopier) by people unfamiliar with crypto, but such usage is discouraged.A few local and national governments are officially using bitcoin in some capacity; El Salvador and the Central African Republic have adopted Bitcoin as legal tender, while Ukraine is accepting bitcoin donations to fund the resistance against the Russian invasion.'})\n",
      "  ('Cryptocurrency', {'url': 'https://en.wikipedia.org/wiki/Cryptocurrency', 'summary': 'A cryptocurrency, crypto-currency, or crypto is a digital currency designed to work as a medium of exchange through a computer network that is not reliant on any central authority, such as a government or bank, to uphold or maintain it.Individual coin ownership records are stored in a digital ledger, which is a computerized database using strong cryptography to secure transaction records, to control the creation of additional coins, and to verify the transfer of coin ownership. Despite their name, cryptocurrencies are not considered to be currencies in the traditional sense and while varying treatments have been applied to them, including classification as commodities, securities, as well as currencies, cryptocurrencies are generally viewed as a distinct asset class in practice. Some crypto schemes use validators to maintain the cryptocurrency. In a proof-of-stake model, owners put up their tokens as collateral. In return, they get authority over the token in proportion to the amount they stake. Generally, these token stakers get additional ownership in the token over time via network fees, newly minted tokens or other such reward mechanisms.Cryptocurrency does not exist in physical form (like paper money) and is typically not issued by a central authority. Cryptocurrencies typically use decentralized control as opposed to a central bank digital currency (CBDC). When a cryptocurrency is minted or created prior to issuance or issued by a single issuer, it is generally considered centralized. When implemented with decentralized control, each cryptocurrency works through distributed ledger technology, typically a blockchain, that serves as a public financial transaction database. Traditional asset classes like currencies, commodities, and stocks, as well as macroeconomic factors, have modest exposures to cryptocurrency returns.The first decentralized cryptocurrency was Bitcoin, which first released as open-source software in 2009. As of March 2022  there were more than 9,000 other cryptocurrencies in the marketplace, of which more than 70 had a market capitalization exceeding $1 billion.'})\n",
      "  ('Lightning', {'url': 'https://en.wikipedia.org/wiki/Lightning', 'summary': 'Lightning is a naturally occurring electrostatic discharge during which two electrically charged regions, both in the atmosphere or with one on the ground, temporarily neutralize themselves, causing the instantaneous release of an average of one gigajoule of energy. This discharge may produce a wide range of electromagnetic radiation, from heat created by the rapid movement of electrons, to brilliant flashes of visible light in the form of black-body radiation. Lightning causes thunder, a sound from the shock wave which develops as gases in the vicinity of the discharge experience a sudden increase in pressure. Lightning occurs commonly during thunderstorms as well as other types of energetic weather systems, but volcanic lightning can also occur during volcanic eruptions.\\nThe three main kinds of lightning are distinguished by where they occur: either inside a single thundercloud, between two different clouds, or between a cloud and the ground. Many other observational variants are recognized, including \"heat lightning\", which can be seen from a great distance but not heard; dry lightning, which can cause forest fires; and ball lightning, which is rarely observed scientifically.\\nHumans have deified lightning for millennia. Idiomatic expressions derived from lightning, such as the English expression \"bolt from the blue\", are common across languages. At all times people have been fascinated by the sight and difference of lightning. The fear of lightning is called astraphobia.\\nThe first known photograph of lightning is from 1847, by Thomas Martin Easterly. The first surviving photograph is from 1882, by William Nicholson Jennings, a photographer who spent half his life capturing pictures of lightning and proving its diversity.'})\n",
      "Relations:\n",
      "  {'head': 'MicroStrategy', 'type': 'founded by', 'tail': 'Michael J. Saylor', 'meta': {'https://finance.yahoo.com/news/microstrategy-bitcoin-millions-142143795.html': {'spans': [[0, 128]]}}}\n",
      "  {'head': 'Michael J. Saylor', 'type': 'employer', 'tail': 'MicroStrategy', 'meta': {'https://finance.yahoo.com/news/microstrategy-bitcoin-millions-142143795.html': {'spans': [[0, 128]]}}}\n",
      "  {'head': 'MicroStrategy', 'type': 'owned by', 'tail': 'Michael J. Saylor', 'meta': {'https://finance.yahoo.com/news/microstrategy-bitcoin-millions-142143795.html': {'spans': [[0, 128]]}}}\n",
      "  {'head': 'Terra (blockchain)', 'type': 'instance of', 'tail': 'Stablecoin', 'meta': {'https://finance.yahoo.com/news/microstrategy-bitcoin-millions-142143795.html': {'spans': [[112, 240]]}}}\n",
      "  {'head': 'Bitcoin', 'type': 'instance of', 'tail': 'Cryptocurrency', 'meta': {'https://finance.yahoo.com/news/microstrategy-bitcoin-millions-142143795.html': {'spans': [[224, 352], [448, 576]]}}}\n",
      "  {'head': 'Bitcoin', 'type': 'uses', 'tail': 'Lightning', 'meta': {'https://finance.yahoo.com/news/microstrategy-bitcoin-millions-142143795.html': {'spans': [[336, 464]]}}}\n",
      "  {'head': 'Lightning', 'type': 'used by', 'tail': 'Bitcoin', 'meta': {'https://finance.yahoo.com/news/microstrategy-bitcoin-millions-142143795.html': {'spans': [[336, 464]]}}}\n",
      "  {'head': 'Lightning', 'type': 'instance of', 'tail': 'Cryptocurrency', 'meta': {'https://finance.yahoo.com/news/microstrategy-bitcoin-millions-142143795.html': {'spans': [[448, 576]]}}}\n",
      "Sources:\n",
      "  ('https://finance.yahoo.com/news/microstrategy-bitcoin-millions-142143795.html', {'article_title': \"Microstrategy chief: 'Bitcoin is going to go into the millions'\", 'article_publish_date': None})\n"
     ]
    }
   ],
   "source": [
    "url = \"https://finance.yahoo.com/news/microstrategy-bitcoin-millions-142143795.html\"\n",
    "kb = from_url_to_kb(url)\n",
    "kb.print()\n",
    "# Entities:\n",
    "#   ('MicroStrategy', {'url': 'https://en.wikipedia.org/wiki/MicroStrategy',\n",
    "#     'summary': \"MicroStrategy Incorporated is an American company that ...\"})\n",
    "#   ('Michael J. Saylor', {'url': 'https://en.wikipedia.org/wiki/Michael_J._Saylor',\n",
    "#     'summary': 'Michael J. Saylor (born February 4, 1965) is an American ...\"})\n",
    "#   ...\n",
    "# Relations:\n",
    "#   {'head': 'MicroStrategy', 'type': 'founded by', 'tail': 'Michael J. Saylor',\n",
    "#    'meta': {'https://finance.yahoo.com/news/microstrategy-bitcoin-millions-142143795.html': \n",
    "#      {'spans': [[0, 128]]}}}\n",
    "#   {'head': 'Michael J. Saylor', 'type': 'employer', 'tail': 'MicroStrategy',\n",
    "#    'meta': {'https://finance.yahoo.com/news/microstrategy-bitcoin-millions-142143795.html':\n",
    "#      {'spans': [[0, 128]]}}}\n",
    "#   ...\n",
    "# Sources:\n",
    "#   ('https://finance.yahoo.com/news/microstrategy-bitcoin-millions-142143795.html',\n",
    "#     {'article_title': \"Microstrategy chief: 'Bitcoin is going to go into the millions'\",\n",
    "#      'article_publish_date': None})"
   ]
  },
  {
   "cell_type": "code",
   "execution_count": 30,
   "id": "0874ef0a",
   "metadata": {},
   "outputs": [],
   "source": [
    "# Googke News : extract KB from multiple articles"
   ]
  },
  {
   "cell_type": "code",
   "execution_count": 31,
   "id": "ac75a6ef",
   "metadata": {},
   "outputs": [],
   "source": [
    "def get_news_links(query, lang=\"en\", region=\"US\", pages=1, max_links=100000):\n",
    "    googlenews = GoogleNews(lang=lang, region=region)\n",
    "    googlenews.search(query)\n",
    "    all_urls = []\n",
    "    for page in range(pages):\n",
    "        googlenews.get_page(page)\n",
    "        all_urls += googlenews.get_links()\n",
    "    return list(set(all_urls))[:max_links]\n",
    "\n",
    "def from_urls_to_kb(urls, verbose=False):\n",
    "    kb = KB()\n",
    "    if verbose:\n",
    "        print(f\"{len(urls)} links to visit\")\n",
    "    for url in urls:\n",
    "        if verbose:\n",
    "            print(f\"Visiting {url}...\")\n",
    "        try:\n",
    "            kb_url = from_url_to_kb(url)\n",
    "            kb.merge_with_kb(kb_url)\n",
    "        except ArticleException:\n",
    "            if verbose:\n",
    "                print(f\"  Couldn't download article at url {url}\")\n",
    "    return kb"
   ]
  },
  {
   "cell_type": "code",
   "execution_count": 32,
   "id": "b77199ac",
   "metadata": {},
   "outputs": [],
   "source": [
    "import pickle\n",
    "\n",
    "def save_kb(kb, filename):\n",
    "    with open(filename, \"wb\") as f:\n",
    "        pickle.dump(kb, f)\n",
    "\n",
    "def load_kb(filename):\n",
    "    res = None\n",
    "    with open(filename, \"rb\") as f:\n",
    "        res = pickle.load(f)\n",
    "    return res"
   ]
  },
  {
   "cell_type": "code",
   "execution_count": 33,
   "id": "a39c1538",
   "metadata": {},
   "outputs": [
    {
     "name": "stdout",
     "output_type": "stream",
     "text": [
      "3 links to visit\n",
      "Visiting https://www.bbc.co.uk/news/business-62214564...\n",
      "Visiting https://www.today.com/parents/parents/10-year-old-uvalde-victim-honored-google-doodle-rcna38685...\n",
      "Visiting https://www.barrons.com/articles/google-alphabet-split-stock-51658143640...\n",
      "  Couldn't download article at url https://www.barrons.com/articles/google-alphabet-split-stock-51658143640\n",
      "Entities:\n",
      "  ('List of invasions and occupations of Ukraine', {'url': 'https://en.wikipedia.org/wiki/List_of_invasions_and_occupations_of_Ukraine', 'summary': 'The territory of present-day Ukraine has been invaded or occupied a number of times throughout its history.'})\n",
      "  ('February', {'url': 'https://en.wikipedia.org/wiki/February', 'summary': 'February is the second month of the year in the Julian and Gregorian calendars. The month has 28 days in common years or 29 in leap years, with the 29th day being called the leap day. It is the first of five months not to have 31 days (the other four being April, June, September, and November) and the only one to have fewer than 30 days.\\nFebruary is the third and last month of meteorological winter in the Northern Hemisphere. In the Southern Hemisphere, February is the third and last month of meteorological summer (being the seasonal equivalent of what is August in the Northern Hemisphere).'})\n",
      "  ('Uvalde Consolidated Independent School District', {'url': 'https://en.wikipedia.org/wiki/Uvalde_Consolidated_Independent_School_District', 'summary': 'Uvalde Consolidated Independent School District (UCISD) is a public school district based in Uvalde, Texas, US. Located in Uvalde County, the district extends into portions of Zavala and Real counties. In addition to Uvalde, the district serves the communities of Batesville in Zavala County, and Uvalde Estates in Uvalde County. The total land area of the district is 1,093 square miles (2,830 km2).In 2009, the school district was rated \"academically acceptable\" by the Texas Education Agency. The district superintendent is Dr. Hal Harrell.\\n\\n'})\n",
      "  ('Uvalde, Texas', {'url': 'https://en.wikipedia.org/wiki/Uvalde,_Texas', 'summary': 'Uvalde is a city and the county seat of Uvalde County, Texas, United States. The population was 15,217 at the 2020 census. Uvalde is located in the Texas Hill Country, 80 miles (130 km) west of downtown San Antonio and 54 miles (87 km) east of the Mexico–United States border.\\n\\n'})\n",
      "  ('Omnipresence', {'url': 'https://en.wikipedia.org/wiki/Omnipresence', 'summary': 'Omnipresence or ubiquity is the property of being present anywhere and everywhere. The term omnipresence is most often used in a religious context as an attribute of a deity or supreme being, while the term ubiquity is generally used to describe something \"existing or being everywhere at the same time, constantly encountered, widespread, common\". Ubiquitous can also be used as a synonym for words like worldwide, universal,  global, pervasive, all over the place.\\nThe omnipresence of a supreme being is conceived differently by different religious systems. In monotheistic beliefs like Christianity, and Judaism the divine and the universe are separate, but the divine is present everywhere. In pantheistic beliefs the divine and the universe are identical. In panentheistic beliefs the divine interpenetrates the universe, but extends beyond it in time and space.\\n\\n'})\n",
      "  ('Matthew McConaughey', {'url': 'https://en.wikipedia.org/wiki/Matthew_McConaughey', 'summary': \"Matthew David McConaughey ( mə-KON-ə-hay; born November 4, 1969) is an American actor. He had his breakout role with a supporting performance in the coming-of-age comedy Dazed and Confused (1993). After a number of supporting roles, his first success as a leading man came in the legal drama A Time to Kill (1996). His career progressed with lead roles in the science fiction film Contact (1997), the historical drama Amistad (1997), and the war film U-571 (2000).\\nIn the 2000s, McConaughey became known for starring in romantic comedies including The Wedding Planner (2001), How to Lose a Guy in 10 Days (2003), Failure to Launch (2006), Fool's Gold (2008), and Ghosts of Girlfriends Past (2009), establishing him as a sex symbol. In 2011, after a two-year hiatus from film acting, McConaughey began to appear in more dramatic roles beginning including the legal drama The Lincoln Lawyer, the dark comedy Bernie, and the crime film Killer Joe. In 2012, he gained wider praise for his roles as a stripper in Magic Mike and a fugitive in Mud.McConaughey's portrayal of Ron Woodroof, a cowboy diagnosed with AIDS, in the biopic Dallas Buyers Club (2013) earned him widespread praise and numerous accolades, including the Academy Award for Best Actor. He followed it with a supporting role in The Wolf of Wall Street (2013), and a starring role as Rust Cohle in the first season of HBO's crime anthology series True Detective (2014), for which he was nominated for the Primetime Emmy Award for Outstanding Lead Actor in a Drama Series. His film roles earned him varying degrees of commercial and critical success, with his most notable releases being Interstellar (2014) and The Gentlemen (2019), as well as voice work in Kubo and the Two Strings (2016), Sing (2016) and its sequel Sing 2 (2021).\\n\\n\"})\n",
      "  ('Mass shooting', {'url': 'https://en.wikipedia.org/wiki/Mass_shooting', 'summary': 'There is a lack of consensus on how to define a mass shooting. Most terms define a minimum of three or four victims of gun violence (not including the shooter) in a short period of time, although an Australian study from 2006 required a minimum of five; and added a requirement that the victims actually died as opposed to being shot and injured but not necessarily killed.In the United States, the Investigative Assistance for Violent Crimes Act of 2012 defines mass killings as three or more killings in a single incident, however the Act does not define mass shootings. Media outlets such as CNN and some crime violence research groups such as the Gun Violence Archive define mass shootings as involving \"four or more shot (injured or killed) in a single incident, at the same general time and location, not including the shooter\". Sometimes shootings involving three or more victims occur in non-public situations such as when one member of a family shoots all the other members in the family home. These killings are known as familicides and are not included in mass shooting statistics.\\nThe motive for mass shootings (that occur in public locations) is usually that they are committed by deeply disgruntled individuals who are seeking revenge for failures in school, career, romance, or life in general or who are seeking fame or attention. If multiple people are shot in a robbery or killed in a group\\'s terrorist attack, that type of violence is usually not included under the definition of mass shootings.\\n\\n'})\n",
      "Relations:\n",
      "  {'head': 'List of invasions and occupations of Ukraine', 'type': 'start time', 'tail': 'February', 'meta': {'https://www.bbc.co.uk/news/business-62214564': {'spans': [[0, 128]]}}}\n",
      "  {'head': 'List of invasions and occupations of Ukraine', 'type': 'point in time', 'tail': 'February', 'meta': {'https://www.bbc.co.uk/news/business-62214564': {'spans': [[0, 128]]}}}\n",
      "  {'head': 'Uvalde Consolidated Independent School District', 'type': 'located in the administrative territorial entity', 'tail': 'Uvalde, Texas', 'meta': {'https://www.today.com/parents/parents/10-year-old-uvalde-victim-honored-google-doodle-rcna38685': {'spans': [[0, 128], [777, 905]]}}}\n",
      "  {'head': 'Omnipresence', 'type': 'facet of', 'tail': 'Omnipresence', 'meta': {'https://www.today.com/parents/parents/10-year-old-uvalde-victim-honored-google-doodle-rcna38685': {'spans': [[222, 350]]}}}\n",
      "  {'head': 'Omnipresence', 'type': 'has part', 'tail': 'Omnipresence', 'meta': {'https://www.today.com/parents/parents/10-year-old-uvalde-victim-honored-google-doodle-rcna38685': {'spans': [[222, 350]]}}}\n",
      "  {'head': 'Omnipresence', 'type': 'part of', 'tail': 'Omnipresence', 'meta': {'https://www.today.com/parents/parents/10-year-old-uvalde-victim-honored-google-doodle-rcna38685': {'spans': [[222, 350]]}}}\n",
      "  {'head': 'Matthew McConaughey', 'type': 'performer', 'tail': 'Matthew McConaughey', 'meta': {'https://www.today.com/parents/parents/10-year-old-uvalde-victim-honored-google-doodle-rcna38685': {'spans': [[555, 683]]}}}\n",
      "  {'head': 'Matthew McConaughey', 'type': 'cast member', 'tail': 'Matthew McConaughey', 'meta': {'https://www.today.com/parents/parents/10-year-old-uvalde-victim-honored-google-doodle-rcna38685': {'spans': [[555, 683]]}}}\n",
      "  {'head': 'Mass shooting', 'type': 'location', 'tail': 'Uvalde, Texas', 'meta': {'https://www.today.com/parents/parents/10-year-old-uvalde-victim-honored-google-doodle-rcna38685': {'spans': [[666, 794]]}}}\n",
      "Sources:\n",
      "  ('https://www.bbc.co.uk/news/business-62214564', {'article_title': \"Russia hits Google with fine for 'illegal content'\", 'article_publish_date': None})\n",
      "  ('https://www.today.com/parents/parents/10-year-old-uvalde-victim-honored-google-doodle-rcna38685', {'article_title': '10-year-old Uvalde victim honored for Google Doodle she created before she died', 'article_publish_date': datetime.datetime(2022, 7, 18, 16, 46, 24, 167000, tzinfo=tzutc())})\n"
     ]
    }
   ],
   "source": [
    "news_links = get_news_links(\"Google\", pages=1, max_links=3)\n",
    "kb = from_urls_to_kb(news_links, verbose=True)\n",
    "kb.print()\n",
    "# 3 links to visit\n",
    "# Visiting https://www.hindustantimes.com/india-news/google-doodle-celebrates-india-s-gama-pehlwan-the-undefeated-wrestling-champion-101653180853982.html...\n",
    "# Visiting https://tech.hindustantimes.com/tech/news/google-doodle-today-celebrates-gama-pehlwan-s-144th-birth-anniversary-know-who-he-is-71653191916538.html...\n",
    "# Visiting https://www.moneycontrol.com/news/trends/current-affairs-trends/google-doodle-celebrates-gama-pehlwan-the-amritsar-born-wrestling-champ-who-inspired-bruce-lee-8552171.html...\n",
    "# Entities:\n",
    "#   ('Google', {'url': 'https://en.wikipedia.org/wiki/Google',\n",
    "#     'summary': 'Google LLC is an American ...'})\n",
    "#   ...\n",
    "# Relations:\n",
    "#   {'head': 'Google', 'type': 'owner of', 'tail': 'Google Doodle',\n",
    "#     'meta': {'https://tech.hindustantimes.com/tech/news/google-doodle-today-celebrates-gama-pehlwan-s-144th-birth-anniversary-know-who-he-is-71653191916538.html':\n",
    "#       {'spans': [[0, 128]]}}}\n",
    "#   ...\n",
    "# Sources:\n",
    "#   ('https://www.hindustantimes.com/india-news/google-doodle-celebrates-india-s-gama-pehlwan-the-undefeated-wrestling-champion-101653180853982.html',\n",
    "#     {'article_title': \"Google Doodle celebrates India's Gama Pehlwan, the undefeated wrestling champion\",\n",
    "#     'article_publish_date': datetime.datetime(2022, 5, 22, 6, 59, 56, tzinfo=tzoffset(None, 19800))})\n",
    "#   ('https://tech.hindustantimes.com/tech/news/google-doodle-today-celebrates-gama-pehlwan-s-144th-birth-anniversary-know-who-he-is-71653191916538.html',\n",
    "#     {'article_title': \"Google Doodle today celebrates Gama Pehlwan's 144th birth anniversary; know who he is\",\n",
    "#     'article_publish_date': datetime.datetime(2022, 5, 22, 9, 32, 38, tzinfo=tzoffset(None, 19800))})\n",
    "#   ('https://www.moneycontrol.com/news/trends/current-affairs-trends/google-doodle-celebrates-gama-pehlwan-the-amritsar-born-wrestling-champ-who-inspired-bruce-lee-8552171.html',\n",
    "#     {'article_title': 'Google Doodle celebrates Gama Pehlwan, the Amritsar-born wrestling champ who inspired Bruce Lee',\n",
    "#     'article_publish_date': None})"
   ]
  },
  {
   "cell_type": "markdown",
   "id": "2246da2a",
   "metadata": {},
   "source": [
    "# Network visualize"
   ]
  },
  {
   "cell_type": "code",
   "execution_count": 35,
   "id": "704e3e2b",
   "metadata": {},
   "outputs": [],
   "source": [
    "def save_network_html(kb, filename=\"network.html\"):\n",
    "    # create network\n",
    "    net = Network(directed=True, width=\"700px\", height=\"700px\", bgcolor=\"#eeeeee\")\n",
    "\n",
    "    # nodes\n",
    "    color_entity = \"#00FF00\"\n",
    "    for e in kb.entities:\n",
    "        net.add_node(e, shape=\"circle\", color=color_entity)\n",
    "\n",
    "    # edges\n",
    "    for r in kb.relations:\n",
    "        net.add_edge(r[\"head\"], r[\"tail\"],\n",
    "                    title=r[\"type\"], label=r[\"type\"])\n",
    "        \n",
    "    # save network\n",
    "    net.repulsion(\n",
    "        node_distance=200,\n",
    "        central_gravity=0.2,\n",
    "        spring_length=200,\n",
    "        spring_strength=0.05,\n",
    "        damping=0.09\n",
    "    )\n",
    "    net.set_edge_smooth('dynamic')\n",
    "    net.show(filename)"
   ]
  },
  {
   "cell_type": "code",
   "execution_count": null,
   "id": "c4ab1b43",
   "metadata": {},
   "outputs": [
    {
     "name": "stdout",
     "output_type": "stream",
     "text": [
      "20 links to visit\n",
      "Visiting https://www.bbc.co.uk/news/business-62214564...\n",
      "Visiting https://www.reuters.com/legal/transactional/google-hit-with-971k-sanction-litigation-misconduct-privacy-suit-2022-07-15/...\n",
      "Visiting https://www.tomsguide.com/news/google-pixel-watch-rumors-release-date-price-and-everything-else-we-know...\n"
     ]
    },
    {
     "name": "stderr",
     "output_type": "stream",
     "text": [
      "Token indices sequence length is longer than the specified maximum sequence length for this model (1732 > 1024). Running this sequence through the model will result in indexing errors\n"
     ]
    }
   ],
   "source": [
    "news_links = get_news_links(\"Google\", pages=5, max_links=20)\n",
    "kb = from_urls_to_kb(news_links, verbose=True)\n",
    "filename = \"network_3_google.html\"\n",
    "save_network_html(kb, filename=filename)\n",
    "IPython.display.HTML(filename=filename)"
   ]
  },
  {
   "cell_type": "code",
   "execution_count": null,
   "id": "ada19327",
   "metadata": {},
   "outputs": [],
   "source": []
  }
 ],
 "metadata": {
  "kernelspec": {
   "display_name": "tensor",
   "language": "python",
   "name": "tensor"
  },
  "language_info": {
   "codemirror_mode": {
    "name": "ipython",
    "version": 3
   },
   "file_extension": ".py",
   "mimetype": "text/x-python",
   "name": "python",
   "nbconvert_exporter": "python",
   "pygments_lexer": "ipython3",
   "version": "3.8.12"
  }
 },
 "nbformat": 4,
 "nbformat_minor": 5
}
