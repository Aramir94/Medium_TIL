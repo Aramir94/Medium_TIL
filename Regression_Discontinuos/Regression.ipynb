{
 "cells": [
  {
   "cell_type": "code",
   "execution_count": 2,
   "id": "060a819a",
   "metadata": {},
   "outputs": [
    {
     "name": "stdout",
     "output_type": "stream",
     "text": [
      "Collecting statsmodels\n",
      "  Downloading statsmodels-0.13.2-cp38-cp38-macosx_11_0_arm64.whl (9.1 MB)\n",
      "\u001b[2K     \u001b[90m━━━━━━━━━━━━━━━━━━━━━━━━━━━━━━━━━━━━━━━━\u001b[0m \u001b[32m9.1/9.1 MB\u001b[0m \u001b[31m13.1 MB/s\u001b[0m eta \u001b[36m0:00:00\u001b[0m00:01\u001b[0m00:01\u001b[0m\n",
      "\u001b[?25hRequirement already satisfied: scipy>=1.3 in /opt/homebrew/Caskroom/miniforge/base/envs/tensor/lib/python3.8/site-packages (from statsmodels) (1.7.3)\n",
      "Requirement already satisfied: packaging>=21.3 in /opt/homebrew/Caskroom/miniforge/base/envs/tensor/lib/python3.8/site-packages (from statsmodels) (21.3)\n",
      "Collecting patsy>=0.5.2\n",
      "  Downloading patsy-0.5.2-py2.py3-none-any.whl (233 kB)\n",
      "\u001b[2K     \u001b[90m━━━━━━━━━━━━━━━━━━━━━━━━━━━━━━━━━━━━━━━\u001b[0m \u001b[32m233.7/233.7 kB\u001b[0m \u001b[31m6.3 MB/s\u001b[0m eta \u001b[36m0:00:00\u001b[0m\n",
      "\u001b[?25hRequirement already satisfied: numpy>=1.17 in /opt/homebrew/Caskroom/miniforge/base/envs/tensor/lib/python3.8/site-packages (from statsmodels) (1.21.6)\n",
      "Requirement already satisfied: pandas>=0.25 in /opt/homebrew/Caskroom/miniforge/base/envs/tensor/lib/python3.8/site-packages (from statsmodels) (1.4.1)\n",
      "Requirement already satisfied: pyparsing!=3.0.5,>=2.0.2 in /opt/homebrew/Caskroom/miniforge/base/envs/tensor/lib/python3.8/site-packages (from packaging>=21.3->statsmodels) (3.0.7)\n",
      "Requirement already satisfied: pytz>=2020.1 in /opt/homebrew/Caskroom/miniforge/base/envs/tensor/lib/python3.8/site-packages (from pandas>=0.25->statsmodels) (2021.3)\n",
      "Requirement already satisfied: python-dateutil>=2.8.1 in /opt/homebrew/Caskroom/miniforge/base/envs/tensor/lib/python3.8/site-packages (from pandas>=0.25->statsmodels) (2.8.2)\n",
      "Requirement already satisfied: six in /opt/homebrew/Caskroom/miniforge/base/envs/tensor/lib/python3.8/site-packages (from patsy>=0.5.2->statsmodels) (1.15.0)\n",
      "Installing collected packages: patsy, statsmodels\n",
      "Successfully installed patsy-0.5.2 statsmodels-0.13.2\n"
     ]
    }
   ],
   "source": [
    "!pip install statsmodels"
   ]
  },
  {
   "cell_type": "code",
   "execution_count": 3,
   "id": "62eb9ad7",
   "metadata": {},
   "outputs": [],
   "source": [
    "import pandas as pd\n",
    "import statsmodels.formula.api as smf\n",
    "import statsmodels.graphics.tsaplots as tsa\n",
    "from matplotlib import pyplot as plt\n",
    "df = pd.read_csv('unemployment_rate_us_fred.csv', header=0)"
   ]
  },
  {
   "cell_type": "code",
   "execution_count": 5,
   "id": "48256ddd",
   "metadata": {},
   "outputs": [],
   "source": [
    "# 경기 침체 전 --> Epoch : 0\n",
    "# 경기 침체 후 --> Epoch : 1"
   ]
  },
  {
   "cell_type": "code",
   "execution_count": 7,
   "id": "625f35d1",
   "metadata": {},
   "outputs": [
    {
     "data": {
      "text/html": [
       "<div>\n",
       "<style scoped>\n",
       "    .dataframe tbody tr th:only-of-type {\n",
       "        vertical-align: middle;\n",
       "    }\n",
       "\n",
       "    .dataframe tbody tr th {\n",
       "        vertical-align: top;\n",
       "    }\n",
       "\n",
       "    .dataframe thead th {\n",
       "        text-align: right;\n",
       "    }\n",
       "</style>\n",
       "<table border=\"1\" class=\"dataframe\">\n",
       "  <thead>\n",
       "    <tr style=\"text-align: right;\">\n",
       "      <th></th>\n",
       "      <th>DATE</th>\n",
       "      <th>Time_Period</th>\n",
       "      <th>UNRATE</th>\n",
       "      <th>Epoch</th>\n",
       "    </tr>\n",
       "  </thead>\n",
       "  <tbody>\n",
       "    <tr>\n",
       "      <th>0</th>\n",
       "      <td>01-01-02</td>\n",
       "      <td>1</td>\n",
       "      <td>5.7</td>\n",
       "      <td>0</td>\n",
       "    </tr>\n",
       "    <tr>\n",
       "      <th>1</th>\n",
       "      <td>01-02-02</td>\n",
       "      <td>2</td>\n",
       "      <td>5.7</td>\n",
       "      <td>0</td>\n",
       "    </tr>\n",
       "    <tr>\n",
       "      <th>2</th>\n",
       "      <td>01-03-02</td>\n",
       "      <td>3</td>\n",
       "      <td>5.7</td>\n",
       "      <td>0</td>\n",
       "    </tr>\n",
       "  </tbody>\n",
       "</table>\n",
       "</div>"
      ],
      "text/plain": [
       "       DATE  Time_Period  UNRATE  Epoch\n",
       "0  01-01-02            1     5.7      0\n",
       "1  01-02-02            2     5.7      0\n",
       "2  01-03-02            3     5.7      0"
      ]
     },
     "execution_count": 7,
     "metadata": {},
     "output_type": "execute_result"
    }
   ],
   "source": [
    "df.head(3)"
   ]
  },
  {
   "cell_type": "code",
   "execution_count": 8,
   "id": "f8c33ac4",
   "metadata": {},
   "outputs": [],
   "source": [
    "# construct regression expression in Patsy\n",
    "reg_exp = 'UNRATE ~ Time_Period + Epoch'"
   ]
  },
  {
   "cell_type": "markdown",
   "id": "b7a9eb6f",
   "metadata": {},
   "source": [
    "# building OLS model"
   ]
  },
  {
   "cell_type": "code",
   "execution_count": 9,
   "id": "a9e8de4f",
   "metadata": {},
   "outputs": [],
   "source": [
    "regdis_model = smf.ols(formula=reg_exp, data=df)"
   ]
  },
  {
   "cell_type": "markdown",
   "id": "8283b326",
   "metadata": {},
   "source": [
    "# Train"
   ]
  },
  {
   "cell_type": "code",
   "execution_count": 10,
   "id": "1f2671f6",
   "metadata": {},
   "outputs": [
    {
     "name": "stdout",
     "output_type": "stream",
     "text": [
      "                            OLS Regression Results                            \n",
      "==============================================================================\n",
      "Dep. Variable:                 UNRATE   R-squared:                       0.925\n",
      "Model:                            OLS   Adj. R-squared:                  0.925\n",
      "Method:                 Least Squares   F-statistic:                     1220.\n",
      "Date:                Wed, 29 Jun 2022   Prob (F-statistic):          1.09e-111\n",
      "Time:                        16:09:55   Log-Likelihood:                -146.31\n",
      "No. Observations:                 200   AIC:                             298.6\n",
      "Df Residuals:                     197   BIC:                             308.5\n",
      "Df Model:                           2                                         \n",
      "Covariance Type:            nonrobust                                         \n",
      "===============================================================================\n",
      "                  coef    std err          t      P>|t|      [0.025      0.975]\n",
      "-------------------------------------------------------------------------------\n",
      "Intercept       7.1887      0.072     99.426      0.000       7.046       7.331\n",
      "Time_Period    -0.0525      0.001    -47.049      0.000      -0.055      -0.050\n",
      "Epoch           6.3757      0.134     47.464      0.000       6.111       6.641\n",
      "==============================================================================\n",
      "Omnibus:                        3.024   Durbin-Watson:                   0.136\n",
      "Prob(Omnibus):                  0.220   Jarque-Bera (JB):                2.710\n",
      "Skew:                          -0.193   Prob(JB):                        0.258\n",
      "Kurtosis:                       3.420   Cond. No.                         435.\n",
      "==============================================================================\n",
      "\n",
      "Notes:\n",
      "[1] Standard Errors assume that the covariance matrix of the errors is correctly specified.\n"
     ]
    }
   ],
   "source": [
    "regdis_model_results = regdis_model.fit()\n",
    "print(regdis_model_results.summary())"
   ]
  },
  {
   "cell_type": "markdown",
   "id": "45211cbc",
   "metadata": {},
   "source": [
    "<img src='https://miro.medium.com/max/1400/1*dclrJJ8hMvFp-gkPMDdG-g.png'>"
   ]
  },
  {
   "cell_type": "markdown",
   "id": "6fcab4aa",
   "metadata": {},
   "source": [
    "# Analyzing model performance"
   ]
  },
  {
   "cell_type": "markdown",
   "id": "83aff73f",
   "metadata": {},
   "source": [
    "- adjusted R-squared : model explain 92.5% of variance in the unemployment rate "
   ]
  },
  {
   "cell_type": "markdown",
   "id": "10cc14a7",
   "metadata": {},
   "source": [
    "- F-statistic : F-statistic has been calculated for us and it’s value is 1220 with a p value of 1.09E-111\n",
    "- The F-test’s output indicates that, at a p of < .001, the model’s coefficients are jointly significant, meaning\n",
    "- We see that the estimates of all three coefficients are significant at a p value of < .001.\n",
    "---\n",
    "- Great Recession of 2008–2009 has caused a mean increase in unemployment in the US\n",
    "  by 6.3757% with a fairly tight 95% confidence interval that ranges from 6.111% to 6.641%."
   ]
  },
  {
   "cell_type": "markdown",
   "id": "67703eb0",
   "metadata": {},
   "source": [
    "# Analysis of residuals\n"
   ]
  },
  {
   "cell_type": "markdown",
   "id": "763d6f07",
   "metadata": {},
   "source": [
    "<img src = 'https://miro.medium.com/max/1400/1*_rqyzpQBC88KScKtG9TNXw.png'>"
   ]
  },
  {
   "cell_type": "markdown",
   "id": "18baff75",
   "metadata": {},
   "source": [
    "- Jarque-Bera and Omnibus tests of normality of residual errors reported by statsmodels:"
   ]
  },
  {
   "cell_type": "markdown",
   "id": "a96baab6",
   "metadata": {},
   "source": [
    "- p-values of both tests are comfortably above .05 \n",
    "- validating the the default hypothesis of the tests that the residual errors are normally distributed\n",
    "- we can rely upon the confidence interval estimates reported by the model"
   ]
  },
  {
   "cell_type": "markdown",
   "id": "60f6d5b3",
   "metadata": {},
   "source": [
    "- Durbin-Watson test’s statistic comes out at < 2.0\n",
    "- positive auto-correlation among the residual errors"
   ]
  },
  {
   "cell_type": "code",
   "execution_count": 13,
   "id": "e1d20842",
   "metadata": {},
   "outputs": [
    {
     "data": {
      "image/png": "[encoded data removed]",
      "text/plain": [
       "<Figure size 432x288 with 1 Axes>"
      ]
     },
     "metadata": {
      "needs_background": "light"
     },
     "output_type": "display_data"
    }
   ],
   "source": [
    "tsa.plot_acf(regdis_model_results.resid)\n",
    "plt.show()"
   ]
  },
  {
   "cell_type": "markdown",
   "id": "4103f118",
   "metadata": {},
   "source": [
    "- The plot shows a strong auto-correlation at LAG-1\n",
    "    - each value in the time series of residual errors is correlated with the value that immediately precedes it in the time series.\n",
    "    \n",
    "- Since values at LAG 1 and LAG 2 are correlated, and LAG 2 and LAG 3 are similarly correlated\n",
    "    - LAG 1 and LAG 3 are also correlated but to a lesser extent\n",
    "### . Thus we see a gently sloping curve of correlations at the other lags also."
   ]
  },
  {
   "cell_type": "markdown",
   "id": "ac5139da",
   "metadata": {},
   "source": [
    "- A strong auto-correlation of this type in the residuals implies that our model is missing one of more key explanatory variables\n",
    "-  Or, the entire functional form of our model may need to be revisited."
   ]
  },
  {
   "cell_type": "code",
   "execution_count": null,
   "id": "038aaa45",
   "metadata": {},
   "outputs": [],
   "source": []
  }
 ],
 "metadata": {
  "kernelspec": {
   "display_name": "Python 3 (ipykernel)",
   "language": "python",
   "name": "python3"
  },
  "language_info": {
   "codemirror_mode": {
    "name": "ipython",
    "version": 3
   },
   "file_extension": ".py",
   "mimetype": "text/x-python",
   "name": "python",
   "nbconvert_exporter": "python",
   "pygments_lexer": "ipython3",
   "version": "3.8.12"
  }
 },
 "nbformat": 4,
 "nbformat_minor": 5
}
