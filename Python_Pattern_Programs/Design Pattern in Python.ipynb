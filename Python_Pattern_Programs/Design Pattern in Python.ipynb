{
 "cells": [
  {
   "cell_type": "markdown",
   "id": "497e18ca",
   "metadata": {},
   "source": [
    "# Mastering Python Design Patterns - Second Edition 참조"
   ]
  },
  {
   "cell_type": "markdown",
   "id": "72e473f2",
   "metadata": {},
   "source": [
    "# Computer Science Engineering \n",
    "- software design solution\n",
    "- for object-oriented programming and code implementation (구현체)\n",
    "- require design pattern\n",
    "\n",
    "*내일 다룰거 object-oriented programming*"
   ]
  },
  {
   "cell_type": "markdown",
   "id": "f1e6fef3",
   "metadata": {},
   "source": [
    "# "
   ]
  },
  {
   "cell_type": "markdown",
   "id": "582bc9f3",
   "metadata": {},
   "source": [
    "# The factory pattern\n",
    "- factory pattern은 객체 생성을 간단하게 하기 위하여 사용된다.\n",
    "- creation of objects in Python is to provide alternative solutions for a direct object creation through __init__() function."
   ]
  },
  {
   "cell_type": "markdown",
   "id": "b7d1f346",
   "metadata": {},
   "source": [
    "### 세부적으로 두가지 패턴이 존재한다.\n",
    "1. factory method: input에 따라 객체 생성이 달라지는 방식\n",
    "2. abstract factory: 여러 객체 생성을 연관된 group별로 묶어서 객체를 생성하는 방식"
   ]
  },
  {
   "cell_type": "markdown",
   "id": "54dd21a5",
   "metadata": {},
   "source": [
    "### 1. Factory Method \n",
    "- centralizes object creation and tracking your objects becomes much easier"
   ]
  },
  {
   "cell_type": "code",
   "execution_count": 5,
   "id": "ef908d1d",
   "metadata": {
    "collapsed": true
   },
   "outputs": [
    {
     "ename": "ModuleNotFoundError",
     "evalue": "No module named 'django'",
     "output_type": "error",
     "traceback": [
      "\u001b[0;31m---------------------------------------------------------------------------\u001b[0m",
      "\u001b[0;31mModuleNotFoundError\u001b[0m                       Traceback (most recent call last)",
      "Input \u001b[0;32mIn [5]\u001b[0m, in \u001b[0;36m<cell line: 4>\u001b[0;34m()\u001b[0m\n\u001b[1;32m      1\u001b[0m \u001b[38;5;66;03m# ex1) forms을 상속받고, 다양한 field의 객체를 생성함\u001b[39;00m\n\u001b[1;32m      2\u001b[0m \u001b[38;5;66;03m# input 되는 forms에 따라 객체 생성 방식이 달라짐\u001b[39;00m\n\u001b[0;32m----> 4\u001b[0m \u001b[38;5;28;01mfrom\u001b[39;00m \u001b[38;5;21;01mdjango\u001b[39;00m \u001b[38;5;28;01mimport\u001b[39;00m forms\n\u001b[1;32m      6\u001b[0m \u001b[38;5;28;01mclass\u001b[39;00m \u001b[38;5;21;01mPersonForm\u001b[39;00m(forms\u001b[38;5;241m.\u001b[39mForm):\n\u001b[1;32m      7\u001b[0m     name \u001b[38;5;241m=\u001b[39m forms\u001b[38;5;241m.\u001b[39mCharField(max_length\u001b[38;5;241m=\u001b[39m\u001b[38;5;241m100\u001b[39m)\n",
      "\u001b[0;31mModuleNotFoundError\u001b[0m: No module named 'django'"
     ]
    }
   ],
   "source": [
    "# ex1) forms을 상속받고, 다양한 field의 객체를 생성함\n",
    "# input 되는 forms에 따라 객체 생성 방식이 달라짐\n",
    "\n",
    "from django import forms\n",
    "\n",
    "class PersonForm(forms.Form):\n",
    "    name = forms.CharField(max_length=100)\n",
    "    birth_date = forms.DateField(required=False)"
   ]
  },
  {
   "cell_type": "markdown",
   "id": "3e001935",
   "metadata": {},
   "source": [
    "### 2. Abstract factory\n"
   ]
  },
  {
   "cell_type": "markdown",
   "id": "a1f64b27",
   "metadata": {},
   "source": [
    "- factory method pattern의 일반화 버전. 객체 생성을 group화 시켜서 함.\n",
    "- 객체 생성 용이의 장점, memory 사용성 향상, performance 향상에 대한 장점이 있음"
   ]
  },
  {
   "cell_type": "code",
   "execution_count": 6,
   "id": "bb0010e3",
   "metadata": {},
   "outputs": [
    {
     "name": "stdout",
     "output_type": "stream",
     "text": [
      "Hello. What's your name? a\n",
      "Welcome a. How old are you? 10\n",
      "\n",
      "\n",
      "\t------ Frog World -------\n",
      "a the Frog encounters a bug and eats it!\n"
     ]
    }
   ],
   "source": [
    "# Frog game\n",
    "\"\"\"\n",
    "'FrogWorld' class is an abstract factory.\n",
    "'WizardWorld' class is an abstract factory.\n",
    "The 'GameEnvironment' class is the main entry point of our game.\n",
    "It accepts the factory as an input and uses it to create the world \n",
    "of the game.\n",
    "\"\"\"\n",
    "\n",
    "class Frog:\n",
    "    def __init__(self, name):\n",
    "        self.name = name\n",
    "\n",
    "    def __str__(self):\n",
    "        return self.name\n",
    "\n",
    "    def interact_with(self, obstacle):\n",
    "        act = obstacle.action()\n",
    "        msg = f'{self} the Frog encounters {obstacle} and {act}!'\n",
    "        print(msg)\n",
    "\n",
    "class Bug:\n",
    "    def __str__(self):\n",
    "        return 'a bug'\n",
    "\n",
    "    def action(self):\n",
    "        return 'eats it'\n",
    "\n",
    "class FrogWorld:\n",
    "    def __init__(self, name):\n",
    "        print(self)\n",
    "        self.player_name = name\n",
    "\n",
    "    def __str__(self):\n",
    "        return '\\n\\n\\t------ Frog World -------'\n",
    "\n",
    "    def make_character(self):\n",
    "        return Frog(self.player_name)\n",
    "\n",
    "    def make_obstacle(self):\n",
    "        return Bug()\n",
    "\n",
    "\n",
    "# Wizard game\n",
    "\n",
    "class Wizard:\n",
    "    def __init__(self, name):\n",
    "        self.name = name\n",
    "\n",
    "    def __str__(self):\n",
    "        return self.name\n",
    "\n",
    "    def interact_with(self, obstacle):\n",
    "        act = obstacle.action()\n",
    "        msg = f'{self} the Wizard battles against {obstacle} and {act}!'\n",
    "        print(msg)\n",
    "\n",
    "class Ork:\n",
    "    def __str__(self):\n",
    "        return 'an evil ork'\n",
    "\n",
    "    def action(self):\n",
    "        return 'kills it'\n",
    "\n",
    "class WizardWorld:\n",
    "    def __init__(self, name):\n",
    "        print(self)\n",
    "        self.player_name = name\n",
    "\n",
    "    def __str__(self):\n",
    "        return '\\n\\n\\t------ Wizard World -------'\n",
    "\n",
    "    def make_character(self):\n",
    "        return Wizard(self.player_name)\n",
    "\n",
    "    def make_obstacle(self):\n",
    "        return Ork()\n",
    "\n",
    "# Game environment\n",
    "class GameEnvironment:\n",
    "    def __init__(self, factory):\n",
    "        self.hero = factory.make_character()\n",
    "        self.obstacle = factory.make_obstacle()\n",
    "\n",
    "    def play(self):\n",
    "        self.hero.interact_with(self.obstacle)\n",
    "\n",
    "def validate_age(name):\n",
    "    try:\n",
    "        age = input(f'Welcome {name}. How old are you? ')\n",
    "        age = int(age)\n",
    "    except ValueError as err:\n",
    "        print(f\"Age {age} is invalid, please try again...\")\n",
    "        return (False, age)\n",
    "    return (True, age)\n",
    "\n",
    "def main():\n",
    "    name = input(\"Hello. What's your name? \")\n",
    "    valid_input = False\n",
    "    while not valid_input:\n",
    "        valid_input, age = validate_age(name)\n",
    "    game = FrogWorld if age < 18 else WizardWorld\n",
    "    environment = GameEnvironment(game(name))\n",
    "    environment.play()\n",
    "\n",
    "\n",
    "if __name__ == '__main__':\n",
    "    main()\n"
   ]
  },
  {
   "cell_type": "markdown",
   "id": "7694c24b",
   "metadata": {},
   "source": [
    "# The building pattern\n"
   ]
  },
  {
   "cell_type": "markdown",
   "id": "c03d0d09",
   "metadata": {},
   "source": [
    "- 여러가지 step을 걸쳐서 객체를 생성해야할 경우 Builder Pattern을 사용합니다.\n",
    "---\n",
    "- factory pattern 과 builder pattern의 차이점\n",
    "    - factory pattern은 객체 생성이 single step 이지만, \n",
    "    - builder pattern은 객체 생성이 multiple steps\n",
    "    - factorpy pattern은 객체 생성을 즉각적으로 하지만, \n",
    "    - builder pattern은 the client code explicitly \n",
    "    - asks the director to return the final object when it needs it"
   ]
  },
  {
   "cell_type": "markdown",
   "id": "ed960d8c",
   "metadata": {},
   "source": [
    "2가지 중요요소가 있음\n",
    "1. builder : (여러가지 step을 거쳐야하는) 복잡한 객체를 생성하는 역할\n",
    "2. director : The component that controls the building process \n",
    "    using a builder instance. \n",
    "    (customize할 수있는 요소를 customize 해주는 역활.)\n",
    "\n"
   ]
  },
  {
   "cell_type": "code",
   "execution_count": 20,
   "id": "a6bfca4c",
   "metadata": {},
   "outputs": [],
   "source": [
    "# Enum python \n",
    "# - 열거형 클래스\n",
    "from enum import Enum\n",
    "\n",
    "class Skill(Enum):\n",
    "    HTML = 1\n",
    "    CSS = 2\n",
    "    JS = 3"
   ]
  },
  {
   "cell_type": "code",
   "execution_count": 21,
   "id": "6538339b",
   "metadata": {},
   "outputs": [
    {
     "data": {
      "text/plain": [
       "<Skill.HTML: 1>"
      ]
     },
     "execution_count": 21,
     "metadata": {},
     "output_type": "execute_result"
    }
   ],
   "source": [
    "Skill.HTML"
   ]
  },
  {
   "cell_type": "code",
   "execution_count": 22,
   "id": "7cc05689",
   "metadata": {},
   "outputs": [
    {
     "name": "stdout",
     "output_type": "stream",
     "text": [
      "Skill.HTML\n",
      "Skill.CSS\n",
      "Skill.JS\n"
     ]
    }
   ],
   "source": [
    "for skill in Skill:\n",
    "    print(skill)"
   ]
  },
  {
   "cell_type": "code",
   "execution_count": 23,
   "id": "e323c68a",
   "metadata": {},
   "outputs": [],
   "source": [
    "Skill = Enum(\"Skill\", \"HTML CSS JS\")"
   ]
  },
  {
   "cell_type": "code",
   "execution_count": 24,
   "id": "60370048",
   "metadata": {},
   "outputs": [
    {
     "data": {
      "text/plain": [
       "[<Skill.HTML: 1>, <Skill.CSS: 2>, <Skill.JS: 3>]"
      ]
     },
     "execution_count": 24,
     "metadata": {},
     "output_type": "execute_result"
    }
   ],
   "source": [
    "list(Skill)"
   ]
  },
  {
   "cell_type": "code",
   "execution_count": null,
   "id": "93a36f58",
   "metadata": {},
   "outputs": [],
   "source": []
  },
  {
   "cell_type": "code",
   "execution_count": 26,
   "id": "9fdbe1b0",
   "metadata": {},
   "outputs": [
    {
     "name": "stdout",
     "output_type": "stream",
     "text": [
      "What pizza would you like, [m]argarita or [c]reamy bacon? m\n",
      "\n",
      "preparing the thin dough of your margarita...\n",
      "done with the thin dough\n",
      "adding the tomato sauce to your margarita...\n",
      "done with the tomato sauce\n",
      "adding the topping (double mozzarella, oregano) to your margarita\n",
      "done with the topping (double mozzarella, oregano)\n",
      "baking your margarita for 5 seconds\n",
      "your margarita is ready\n",
      "\n",
      "Enjoy your margarita!\n"
     ]
    }
   ],
   "source": [
    "\"\"\"\n",
    "\n",
    "two builders : MargaritaBuilder, CreamyBaconBuilder\n",
    "Each builder creates a 'Pizza' instance\n",
    "prepare_dough() is just a wrapper to the prepare_dough() method of the Pizza class.\n",
    "\n",
    "The director in this example is the waiter, \n",
    "which accepts a builder as a parameter and executes\n",
    "all the pizza-preparation steps in the right order\n",
    "\"\"\"\n",
    "\n",
    "from enum import Enum\n",
    "import time\n",
    "\n",
    "PizzaProgress = Enum('PizzaProgress', 'queued preparation baking ready')\n",
    "PizzaDough = Enum('PizzaDough', 'thin thick')\n",
    "PizzaSauce = Enum('PizzaSauce', 'tomato creme_fraiche')\n",
    "PizzaTopping = Enum('PizzaTopping', \n",
    "                    'mozzarella double_mozzarella bacon ham mushrooms red_onion oregano')\n",
    "STEP_DELAY = 3 # in seconds for the sake of the example\n",
    "\n",
    "\n",
    "class Pizza:\n",
    "    def __init__(self, name):\n",
    "        self.name = name\n",
    "        self.dough = None\n",
    "        self.sauce = None\n",
    "        self.topping = []\n",
    "\n",
    "    def __str__(self):\n",
    "        return self.name\n",
    "\n",
    "    def prepare_dough(self, dough):\n",
    "        self.dough = dough\n",
    "        print(f'preparing the {self.dough.name} dough of your {self}...')\n",
    "        time.sleep(STEP_DELAY)\n",
    "        print(f'done with the {self.dough.name} dough')\n",
    "\n",
    "        \n",
    "class MargaritaBuilder:\n",
    "    def __init__(self):\n",
    "        self.pizza = Pizza('margarita')\n",
    "        self.progress = PizzaProgress.queued\n",
    "        self.baking_time = 5 # in seconds for the sake of the example\n",
    "\n",
    "    def prepare_dough(self):\n",
    "        self.progress = PizzaProgress.preparation\n",
    "        self.pizza.prepare_dough(PizzaDough.thin)\n",
    "\n",
    "    def add_sauce(self):\n",
    "        print('adding the tomato sauce to your margarita...')\n",
    "        self.pizza.sauce = PizzaSauce.tomato\n",
    "        time.sleep(STEP_DELAY)\n",
    "        print('done with the tomato sauce')\n",
    "\n",
    "    def add_topping(self):\n",
    "        topping_desc = 'double mozzarella, oregano'\n",
    "        topping_items = (PizzaTopping.double_mozzarella, PizzaTopping.oregano)\n",
    "        print(f'adding the topping ({topping_desc}) to your margarita')\n",
    "        self.pizza.topping.append([t for t in topping_items])\n",
    "        time.sleep(STEP_DELAY)\n",
    "        print(f'done with the topping ({topping_desc})')\n",
    "\n",
    "    def bake(self):\n",
    "        self.progress = PizzaProgress.baking\n",
    "        print(f'baking your margarita for {self.baking_time} seconds')\n",
    "        time.sleep(self.baking_time)\n",
    "        self.progress = PizzaProgress.ready\n",
    "        print('your margarita is ready')\n",
    "\n",
    "        \n",
    "class CreamyBaconBuilder:\n",
    "    def __init__(self):\n",
    "        self.pizza = Pizza('creamy bacon')\n",
    "        self.progress = PizzaProgress.queued\n",
    "        self.baking_time = 7 # in seconds for the sake of the example\n",
    "\n",
    "    def prepare_dough(self):\n",
    "        self.progress = PizzaProgress.preparation\n",
    "        self.pizza.prepare_dough(PizzaDough.thick)\n",
    "\n",
    "    def add_sauce(self):\n",
    "        print('adding the crème fraîche sauce to your creamy bacon')\n",
    "        self.pizza.sauce = PizzaSauce.creme_fraiche\n",
    "        time.sleep(STEP_DELAY)\n",
    "        print('done with the crème fraîche sauce')\n",
    "\n",
    "    def add_topping(self):\n",
    "        topping_desc = 'mozzarella, bacon, ham, mushrooms, red onion, oregano'\n",
    "        topping_items =  (PizzaTopping.mozzarella,\n",
    "                          PizzaTopping.bacon,\n",
    "                          PizzaTopping.ham,\n",
    "                          PizzaTopping.mushrooms,\n",
    "                          PizzaTopping.red_onion, \n",
    "                          PizzaTopping.oregano)\n",
    "        print(f'adding the topping ({topping_desc}) to your creamy bacon')\n",
    "        self.pizza.topping.append([t for t in topping_items])\n",
    "        time.sleep(STEP_DELAY)\n",
    "        print(f'done with the topping ({topping_desc})')\n",
    "\n",
    "    def bake(self):\n",
    "        self.progress = PizzaProgress.baking\n",
    "        print(f'baking your creamy bacon for {self.baking_time} seconds')\n",
    "        time.sleep(self.baking_time)\n",
    "        self.progress = PizzaProgress.ready\n",
    "        print('your creamy bacon is ready')\n",
    "\n",
    "        \n",
    "class Waiter:\n",
    "    def __init__(self):\n",
    "        self.builder = None\n",
    "\n",
    "    def construct_pizza(self, builder):\n",
    "        self.builder = builder\n",
    "        steps = (builder.prepare_dough, \n",
    "                 builder.add_sauce, \n",
    "                 builder.add_topping, \n",
    "                 builder.bake)\n",
    "        [step() for step in steps]\n",
    "\n",
    "    @property\n",
    "    def pizza(self):\n",
    "        return self.builder.pizza\n",
    "\n",
    "        \n",
    "def validate_style(builders):\n",
    "    try:\n",
    "        input_msg = 'What pizza would you like, [m]argarita or [c]reamy bacon? '\n",
    "        pizza_style = input(input_msg)\n",
    "        builder = builders[pizza_style]()\n",
    "        valid_input = True\n",
    "    except KeyError:\n",
    "        error_msg = 'Sorry, only margarita (key m) and creamy bacon (key c) are available'\n",
    "        print(error_msg)\n",
    "        return (False, None)\n",
    "    return (True, builder)\n",
    "\n",
    "    \n",
    "def main():\n",
    "    builders = dict(m=MargaritaBuilder, c=CreamyBaconBuilder)\n",
    "    valid_input = False\n",
    "    while not valid_input:\n",
    "        valid_input, builder = validate_style(builders)\n",
    "    print()\n",
    "    waiter = Waiter()\n",
    "    waiter.construct_pizza(builder)\n",
    "    pizza = waiter.pizza\n",
    "    print()\n",
    "    print(f'Enjoy your {pizza}!')\n",
    "\n",
    "    \n",
    "if __name__ == '__main__':\n",
    "    main()"
   ]
  },
  {
   "cell_type": "markdown",
   "id": "935e733c",
   "metadata": {},
   "source": [
    "# The prototype pattern\n",
    "\n"
   ]
  },
  {
   "cell_type": "markdown",
   "id": "acde135d",
   "metadata": {},
   "source": [
    "- 클래스로 객체를 새로 찍어내는(생성)하는 것이 아니라 기존 객체를 복사해와서 \n",
    "- 새로운 객체를 생성해내는 패턴\n",
    "- 복잡한 객체 생성로직이 필요할때 사용하면 좋음.\n"
   ]
  },
  {
   "cell_type": "code",
   "execution_count": 27,
   "id": "93ffce5c",
   "metadata": {},
   "outputs": [
    {
     "name": "stdout",
     "output_type": "stream",
     "text": [
      "Website \"ContentGardening\"\n",
      "author: Kamon Ayeva\n",
      "category: Blog\n",
      "description: Automation and data-driven apps\n",
      "domain: contentgardening.com\n",
      "keywords: ('python', 'data', 'apis', 'automation')\n",
      "\n",
      "Website \"ContentGardeningPlayground\"\n",
      "author: Kamon Ayeva\n",
      "category: Membership site\n",
      "creation_date: 2018-08-01\n",
      "description: Experimentation for techniques featured on the blog\n",
      "domain: play.contentgardening.com\n",
      "keywords: ('python', 'data', 'apis', 'automation')\n",
      "\n",
      "ID site1 : 4411435136 != ID site2 : 4404353776\n"
     ]
    }
   ],
   "source": [
    "# ex1) 여러 웹사이트을, 형식은 같지만 이름, 도메인, 생성일자 등만을 바꿔서 새롭게 만들어낼때 사용.\n",
    "\n",
    "import copy\n",
    "\n",
    "class Website: \n",
    "    def __init__(self, name, domain, description, author, **kwargs): \n",
    "        '''Examples of optional attributes (kwargs): \n",
    "           category, creation_date, technologies, keywords.\n",
    "        ''' \n",
    "        self.name = name \n",
    "        self.domain = domain \n",
    "        self.description = description\n",
    "        self.author = author\n",
    "        \n",
    "        for key in kwargs:\n",
    "            setattr(self, key, kwargs[key])\n",
    " \n",
    "    def __str__(self): \n",
    "        summary = [f'Website \"{self.name}\"\\n',] \n",
    "        \n",
    "        infos = vars(self).items()\n",
    "        ordered_infos = sorted(infos)\n",
    "        for attr, val in ordered_infos:\n",
    "            if attr == 'name':\n",
    "                continue\n",
    "            summary.append(f'{attr}: {val}\\n')\n",
    "            \n",
    "        return ''.join(summary) \n",
    "\n",
    "        \n",
    "class Prototype: \n",
    "    def __init__(self): \n",
    "        self.objects = dict() \n",
    " \n",
    "    def register(self, identifier, obj): \n",
    "        self.objects[identifier] = obj \n",
    " \n",
    "    def unregister(self, identifier): \n",
    "        del self.objects[identifier] \n",
    " \n",
    "    def clone(self, identifier, **attrs): \n",
    "        found = self.objects.get(identifier) \n",
    "        if not found: \n",
    "            raise ValueError(f'Incorrect object identifier: {identifier}') \n",
    "        obj = copy.deepcopy(found) \n",
    "        for key in attrs:\n",
    "            setattr(obj, key, attrs[key])\n",
    "\n",
    "        return obj\n",
    "        \n",
    "def main(): \n",
    "    keywords = ('python', 'data', 'apis', 'automation')\n",
    "    site1 = Website('ContentGardening', \n",
    "            domain='contentgardening.com', \n",
    "            description='Automation and data-driven apps', \n",
    "            author='Kamon Ayeva',\n",
    "            category='Blog',\n",
    "            keywords=keywords)\n",
    " \n",
    "    prototype = Prototype() \n",
    "    identifier = 'ka-cg-1' \n",
    "    prototype.register(identifier, site1)\n",
    "    \n",
    "    site2 = prototype.clone(identifier, \n",
    "            name='ContentGardeningPlayground',\n",
    "            domain='play.contentgardening.com', \n",
    "            description='Experimentation for techniques featured on the blog', \n",
    "            category='Membership site',\n",
    "            creation_date='2018-08-01') \n",
    " \n",
    "    for site in (site1, site2): \n",
    "        print(site)\n",
    "    print(f'ID site1 : {id(site1)} != ID site2 : {id(site2)}')\n",
    "    \n",
    "if __name__ == '__main__': \n",
    "    main()\n"
   ]
  },
  {
   "cell_type": "markdown",
   "id": "105f4da5",
   "metadata": {},
   "source": [
    "# Singleton Pattern\n"
   ]
  },
  {
   "cell_type": "markdown",
   "id": "273e768b",
   "metadata": {},
   "source": [
    "- class가 단 1개의 instance만 가지도록 제한하는 패턴\n",
    "- concurrent access를 해야하는 상황에서 쓸 수 있음"
   ]
  },
  {
   "cell_type": "code",
   "execution_count": null,
   "id": "3bd14d29",
   "metadata": {},
   "outputs": [],
   "source": [
    "# SingletonType\n",
    "# define the SingletonType class, with its special __call__() method\n",
    "\n",
    "import urllib.parse\n",
    "import urllib.request\n",
    "\n",
    "\n",
    "class SingletonType(type):\n",
    "    _instances = {}\n",
    "    def __call__(cls, *args, **kwargs):\n",
    "        if cls not in cls._instances:\n",
    "            cls._instances[cls] = super(SingletonType, cls).__call__(*args, **kwargs)\n",
    "        return cls._instances[cls]\n",
    "\n",
    "\n",
    "class URLFetcher(metaclass=SingletonType):\n",
    "\n",
    "    def __init__(self):\n",
    "        self.urls = []\n",
    "    \n",
    "    def fetch(self, url):\n",
    "        req = urllib.request.Request(url)\n",
    "        with urllib.request.urlopen(req) as response:\n",
    "            if response.code == 200:\n",
    "                the_page = response.read()\n",
    "                print(the_page)\n",
    "        \n",
    "                urls = self.urls\n",
    "                urls.append(url)\n",
    "                self.urls = urls\n",
    "            \n",
    "    def dump_url_registry(self):\n",
    "        return ', '.join(self.urls)\n",
    "\n",
    "\n",
    "def main():\n",
    "\n",
    "    MY_URLS = ['http://www.voidspace.org.uk', \n",
    "               'http://google.com', \n",
    "               'http://python.org',\n",
    "               'https://www.python.org/error',\n",
    "               ]\n",
    "\n",
    "    print(URLFetcher() is URLFetcher())\n",
    "\n",
    "    fetcher = URLFetcher()\n",
    "    for url in MY_URLS:\n",
    "        try:\n",
    "            fetcher.fetch(url)\n",
    "        except Exception as e:\n",
    "            print(e)\n",
    "            \n",
    "    print('-------')\n",
    "    done_urls = fetcher.dump_url_registry()\n",
    "    print(f'Done URLs: {done_urls}')\n",
    "    \n",
    "if __name__ == '__main__':\n",
    "    main()"
   ]
  },
  {
   "cell_type": "markdown",
   "id": "bc255b1f",
   "metadata": {},
   "source": [
    "# Adapter Pattern : 자료 만들기"
   ]
  },
  {
   "cell_type": "code",
   "execution_count": null,
   "id": "71aa7599",
   "metadata": {},
   "outputs": [],
   "source": []
  },
  {
   "cell_type": "markdown",
   "id": "5e945b9f",
   "metadata": {},
   "source": [
    "# Decorator Pattern\n"
   ]
  },
  {
   "cell_type": "markdown",
   "id": "ae1f4b2a",
   "metadata": {},
   "source": [
    "- 함수에 확장된 기능을 부여하는 패턴, @decorator\n",
    "- 사용법에 대한 스터디 필요 "
   ]
  },
  {
   "cell_type": "markdown",
   "id": "17a555b3",
   "metadata": {},
   "source": [
    "Data validation\n",
    "Caching\n",
    "Logging\n",
    "Monitoring\n",
    "Debugging\n",
    "Business rules\n",
    "Encryption"
   ]
  },
  {
   "cell_type": "code",
   "execution_count": 29,
   "id": "7b9c37df",
   "metadata": {},
   "outputs": [
    {
     "name": "stdout",
     "output_type": "stream",
     "text": [
      "Function \"number_sum\": Returns the sum of the first n numbers\n",
      "Time: 0.11212683299982018\n",
      "\n",
      "Function \"fibonacci\": Returns the suite of Fibonacci numbers\n",
      "Time: 0.09097979099988152\n",
      "\n"
     ]
    }
   ],
   "source": [
    "import functools \n",
    " \n",
    "def memoize(fn): \n",
    "    cache = dict() \n",
    " \n",
    "    @functools.wraps(fn) \n",
    "    def memoizer(*args): \n",
    "        if args not in cache: \n",
    "            cache[args] = fn(*args) \n",
    "        return cache[args] \n",
    " \n",
    "    return memoizer\n",
    "    \n",
    "@memoize \n",
    "def number_sum(n): \n",
    "    '''Returns the sum of the first n numbers''' \n",
    "    assert(n >= 0), 'n must be >= 0' \n",
    "    if n == 0:\n",
    "        return 0\n",
    "    else:\n",
    "        return n + number_sum(n-1)\n",
    " \n",
    "@memoize \n",
    "def fibonacci(n): \n",
    "    '''Returns the suite of Fibonacci numbers''' \n",
    "    assert(n >= 0), 'n must be >= 0'\n",
    "    if n in (0, 1):\n",
    "        return n\n",
    "    else:\n",
    "        return fibonacci(n-1) + fibonacci(n-2)    \n",
    "        \n",
    "def main():\n",
    "    from timeit import Timer\n",
    "\n",
    "    to_execute = [\n",
    "        (number_sum, \n",
    "         Timer('number_sum(300)', 'from __main__ import number_sum')),\n",
    "        (fibonacci, \n",
    "         Timer('fibonacci(100)', 'from __main__ import fibonacci'))    \n",
    "    ]\n",
    "    \n",
    "    for item in to_execute:\n",
    "        fn = item[0]\n",
    "        print(f'Function \"{fn.__name__}\": {fn.__doc__}')\n",
    "        t = item[1]\n",
    "        print(f'Time: {t.timeit()}')\n",
    "        print()\n",
    "\n",
    "if __name__ == '__main__': \n",
    "    main()\n"
   ]
  },
  {
   "cell_type": "markdown",
   "id": "da41a77e",
   "metadata": {},
   "source": [
    "# Facade Pattern\n"
   ]
  },
  {
   "cell_type": "markdown",
   "id": "b6cae0fd",
   "metadata": {},
   "source": [
    "- 복잡한 classes들과 instructions들을 single function을 통해 실행 가능토록 한다."
   ]
  },
  {
   "cell_type": "markdown",
   "id": "370634b0",
   "metadata": {},
   "source": [
    "The facade design pattern helps us to hide the internal complexity of our systems and expose only what is necessary to the client through a simplified interface.ㅡ"
   ]
  },
  {
   "cell_type": "markdown",
   "id": "4f5b892d",
   "metadata": {},
   "source": [
    "By introducing facade, the client code can use a system by simply calling a single method/function."
   ]
  },
  {
   "cell_type": "markdown",
   "id": "7ead10c9",
   "metadata": {},
   "source": [
    "ex) CPU가 boot시킬때 encapsulates the whole procedure했기 때문에 client에게 복잡함을 노출시키지 않는다."
   ]
  },
  {
   "cell_type": "code",
   "execution_count": 31,
   "id": "f85e6dfe",
   "metadata": {},
   "outputs": [
    {
     "name": "stdout",
     "output_type": "stream",
     "text": [
      "booting the FileServer\n",
      "booting the ProcessServer\n",
      "trying to create the file 'hello' for user 'foo' with permissions -rw-r-r\n",
      "trying to create the process 'ls /tmp' for user 'bar'\n"
     ]
    }
   ],
   "source": [
    "from enum import Enum \n",
    "from abc import ABCMeta, abstractmethod \n",
    " \n",
    "State = Enum('State', 'new running sleeping restart zombie') \n",
    " \n",
    "class User: \n",
    "    pass \n",
    " \n",
    "class Process: \n",
    "    pass \n",
    " \n",
    "class File: \n",
    "    pass \n",
    " \n",
    "class Server(metaclass=ABCMeta): \n",
    "    @abstractmethod \n",
    "    def __init__(self): \n",
    "        pass \n",
    " \n",
    "    def __str__(self): \n",
    "        return self.name \n",
    " \n",
    "    @abstractmethod \n",
    "    def boot(self): \n",
    "        pass \n",
    " \n",
    "    @abstractmethod  \n",
    "    def kill(self, restart=True): \n",
    "        pass \n",
    " \n",
    "class FileServer(Server): \n",
    "    def __init__(self): \n",
    "        '''actions required for initializing the file server''' \n",
    "        self.name = 'FileServer' \n",
    "        self.state = State.new \n",
    " \n",
    "    def boot(self): \n",
    "        print(f'booting the {self}') \n",
    "        '''actions required for booting the file server''' \n",
    "        self.state = State.running \n",
    " \n",
    "    def kill(self, restart=True): \n",
    "        print(f'Killing {self}') \n",
    "        '''actions required for killing the file server''' \n",
    "        self.state = State.restart if restart else State.zombie \n",
    " \n",
    "    def create_file(self, user, name, permissions): \n",
    "        '''check validity of permissions, user rights, etc.''' \n",
    "        print(f\"trying to create the file '{name}' for user '{user}' with permissions {permissions}\") \n",
    " \n",
    "class ProcessServer(Server): \n",
    "    def __init__(self): \n",
    "        '''actions required for initializing the process server''' \n",
    "        self.name = 'ProcessServer' \n",
    "        self.state = State.new \n",
    " \n",
    "    def boot(self): \n",
    "        print(f'booting the {self}') \n",
    "        '''actions required for booting the process server''' \n",
    "        self.state = State.running \n",
    " \n",
    "    def kill(self, restart=True): \n",
    "        print(f'Killing {self}') \n",
    "        '''actions required for killing the process server''' \n",
    "        self.state = State.restart if restart else State.zombie \n",
    " \n",
    "    def create_process(self, user, name): \n",
    "        '''check user rights, generate PID, etc.''' \n",
    "        print(f\"trying to create the process '{name}' for user '{user}'\") \n",
    " \n",
    "class WindowServer: \n",
    "    pass \n",
    " \n",
    "class NetworkServer: \n",
    "    pass \n",
    " \n",
    "class OperatingSystem: \n",
    "    '''The Facade''' \n",
    "    def __init__(self): \n",
    "        self.fs = FileServer() \n",
    "        self.ps = ProcessServer() \n",
    " \n",
    "    def start(self): \n",
    "        [i.boot() for i in (self.fs, self.ps)] \n",
    " \n",
    "    def create_file(self, user, name, permissions): \n",
    "        return self.fs.create_file(user, name, permissions) \n",
    " \n",
    "    def create_process(self, user, name): \n",
    "        return self.ps.create_process(user, name) \n",
    " \n",
    "def main(): \n",
    "    os = OperatingSystem() \n",
    "    os.start()  \n",
    "    os.create_file('foo', 'hello', '-rw-r-r') \n",
    "    os.create_process('bar', 'ls /tmp') \n",
    " \n",
    "if __name__ == '__main__': \n",
    "    main()"
   ]
  },
  {
   "cell_type": "markdown",
   "id": "653ce818",
   "metadata": {},
   "source": [
    "# Flyweight pattern\n"
   ]
  },
  {
   "cell_type": "markdown",
   "id": "c9eb41a7",
   "metadata": {},
   "source": [
    "다수의 개체의 공통적인 속성을 관리하여 메모리를 아끼는 패턴이다. 즉, 매우 많은 객체들을 생성해야할 때 사용하는 패턴이자, 그 많은 객체를 저장하기에는 메모리가 너무 많이 소모될때 사용해야하는 패턴"
   ]
  },
  {
   "cell_type": "code",
   "execution_count": 32,
   "id": "f13370e3",
   "metadata": {},
   "outputs": [
    {
     "name": "stdout",
     "output_type": "stream",
     "text": [
      "render a car of type CarType.subcompact and color gray at (31, 45)\n",
      "render a car of type CarType.subcompact and color green at (60, 25)\n",
      "render a car of type CarType.subcompact and color brown at (1, 42)\n",
      "render a car of type CarType.subcompact and color brown at (89, 78)\n",
      "render a car of type CarType.subcompact and color white at (14, 59)\n",
      "render a car of type CarType.subcompact and color yellow at (100, 91)\n",
      "render a car of type CarType.subcompact and color gray at (93, 46)\n",
      "render a car of type CarType.subcompact and color brown at (73, 6)\n",
      "render a car of type CarType.subcompact and color yellow at (95, 75)\n",
      "render a car of type CarType.subcompact and color white at (75, 89)\n",
      "render a car of type CarType.compact and color red at (72, 82)\n",
      "render a car of type CarType.compact and color blue at (90, 52)\n",
      "render a car of type CarType.compact and color green at (57, 76)\n",
      "render a car of type CarType.suv and color silver at (50, 90)\n",
      "render a car of type CarType.suv and color white at (2, 40)\n",
      "render a car of type CarType.suv and color white at (64, 35)\n",
      "render a car of type CarType.suv and color yellow at (65, 65)\n",
      "render a car of type CarType.suv and color white at (79, 63)\n",
      "cars rendered: 18\n",
      "cars actually created: 3\n",
      "4406046384 == 4406046384? True\n",
      "4406046384 == 4410958128? False\n"
     ]
    }
   ],
   "source": [
    "import random \n",
    "from enum import Enum \n",
    " \n",
    "CarType = Enum('CarType', 'subcompact compact suv') \n",
    " \n",
    "class Car: \n",
    "    pool = dict() \n",
    " \n",
    "    def __new__(cls, car_type): \n",
    "        obj = cls.pool.get(car_type, None) \n",
    "        if not obj: \n",
    "            obj = object.__new__(cls) \n",
    "            cls.pool[car_type] = obj \n",
    "            obj.car_type = car_type \n",
    "        return obj \n",
    " \n",
    "    def render(self, color, x, y):\n",
    "        type = self.car_type\n",
    "        msg = f'render a car of type {type} and color {color} at ({x}, {y})'\n",
    "        print(msg)\n",
    " \n",
    "def main(): \n",
    "    rnd = random.Random() \n",
    "    #age_min, age_max = 1, 30    # in years \n",
    "    colors = 'white black silver gray red blue brown beige yellow green'.split()\n",
    "    min_point, max_point = 0, 100 \n",
    "    car_counter = 0 \n",
    " \n",
    "    for _ in range(10): \n",
    "        c1 = Car(CarType.subcompact) \n",
    "        c1.render(random.choice(colors), \n",
    "                  rnd.randint(min_point, max_point), \n",
    "                  rnd.randint(min_point, max_point)) \n",
    "        car_counter += 1 \n",
    " \n",
    "    for _ in range(3): \n",
    "        c2 = Car(CarType.compact) \n",
    "        c2.render(random.choice(colors), \n",
    "                  rnd.randint(min_point, max_point), \n",
    "                  rnd.randint(min_point, max_point)) \n",
    "        car_counter += 1 \n",
    " \n",
    "    for _ in range(5): \n",
    "        c3 = Car(CarType.suv) \n",
    "        c3.render(random.choice(colors), \n",
    "                  rnd.randint(min_point, max_point), \n",
    "                  rnd.randint(min_point, max_point)) \n",
    "        car_counter += 1 \n",
    " \n",
    "    print(f'cars rendered: {car_counter}') \n",
    "    print(f'cars actually created: {len(Car.pool)}') \n",
    " \n",
    "    c4 = Car(CarType.subcompact) \n",
    "    c5 = Car(CarType.subcompact) \n",
    "    c6 = Car(CarType.suv) \n",
    "    print(f'{id(c4)} == {id(c5)}? {id(c4) == id(c5)}') \n",
    "    print(f'{id(c5)} == {id(c6)}? {id(c5) == id(c6)}') \n",
    "\n",
    "    \n",
    "if __name__ == '__main__': \n",
    "    main()\n"
   ]
  },
  {
   "cell_type": "code",
   "execution_count": null,
   "id": "caaeee30",
   "metadata": {},
   "outputs": [],
   "source": []
  }
 ],
 "metadata": {
  "kernelspec": {
   "display_name": "new",
   "language": "python",
   "name": "new"
  },
  "language_info": {
   "codemirror_mode": {
    "name": "ipython",
    "version": 3
   },
   "file_extension": ".py",
   "mimetype": "text/x-python",
   "name": "python",
   "nbconvert_exporter": "python",
   "pygments_lexer": "ipython3",
   "version": "3.8.13"
  }
 },
 "nbformat": 4,
 "nbformat_minor": 5
}
