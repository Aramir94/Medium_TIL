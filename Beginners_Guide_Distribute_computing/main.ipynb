{
 "cells": [
  {
   "cell_type": "markdown",
   "id": "3a87c599",
   "metadata": {},
   "source": [
    "# Lazy Evaluation\n"
   ]
  },
  {
   "cell_type": "code",
   "execution_count": 20,
   "id": "1942a0f7",
   "metadata": {},
   "outputs": [
    {
     "data": {
      "text/html": [
       "<div>\n",
       "<style scoped>\n",
       "    .dataframe tbody tr th:only-of-type {\n",
       "        vertical-align: middle;\n",
       "    }\n",
       "\n",
       "    .dataframe tbody tr th {\n",
       "        vertical-align: top;\n",
       "    }\n",
       "\n",
       "    .dataframe thead th {\n",
       "        text-align: right;\n",
       "    }\n",
       "</style>\n",
       "<table border=\"1\" class=\"dataframe\">\n",
       "  <thead>\n",
       "    <tr style=\"text-align: right;\">\n",
       "      <th></th>\n",
       "      <th>Name</th>\n",
       "      <th>Age</th>\n",
       "      <th>Fur</th>\n",
       "    </tr>\n",
       "  </thead>\n",
       "  <tbody>\n",
       "    <tr>\n",
       "      <th>0</th>\n",
       "      <td>Mercutio</td>\n",
       "      <td>3</td>\n",
       "      <td>Grey</td>\n",
       "    </tr>\n",
       "    <tr>\n",
       "      <th>1</th>\n",
       "      <td>Tybalt</td>\n",
       "      <td>2</td>\n",
       "      <td>Grey</td>\n",
       "    </tr>\n",
       "    <tr>\n",
       "      <th>2</th>\n",
       "      <td>Lady Montague</td>\n",
       "      <td>4</td>\n",
       "      <td>White</td>\n",
       "    </tr>\n",
       "  </tbody>\n",
       "</table>\n",
       "</div>"
      ],
      "text/plain": [
       "            Name  Age    Fur\n",
       "0       Mercutio    3   Grey\n",
       "1         Tybalt    2   Grey\n",
       "2  Lady Montague    4  White"
      ]
     },
     "execution_count": 20,
     "metadata": {},
     "output_type": "execute_result"
    }
   ],
   "source": [
    "import pandas as pd\n",
    "# create a dataframe\n",
    "df = pd.DataFrame({\n",
    "    \"Name\": [\"Mercutio\", \"Tybalt\", \"Lady Montague\"],\n",
    "    \"Age\": [3, 2, 4],\n",
    "    \"Fur\": [\"Grey\", \"Grey\", \"White\"]}\n",
    "  )\n",
    "# call the DataFrame\n",
    "df"
   ]
  },
  {
   "cell_type": "code",
   "execution_count": 21,
   "id": "7309c94d",
   "metadata": {},
   "outputs": [
    {
     "data": {
      "text/plain": [
       "Fur\n",
       "Grey     2.5\n",
       "White    4.0\n",
       "Name: Age, dtype: float64"
      ]
     },
     "execution_count": 21,
     "metadata": {},
     "output_type": "execute_result"
    }
   ],
   "source": [
    "# define a groupby computation\n",
    "df.groupby('Fur').Age.mean()"
   ]
  },
  {
   "cell_type": "code",
   "execution_count": 22,
   "id": "4769c993",
   "metadata": {},
   "outputs": [],
   "source": [
    "# IF DATAFRAME contains more more data than your machine can hold in memory \n",
    "# pandas has no choice but try to load that data into memory and fail\n",
    "# this is why distributed computing libraries like Dask evaluate lazily"
   ]
  },
  {
   "cell_type": "code",
   "execution_count": 23,
   "id": "25702035",
   "metadata": {},
   "outputs": [
    {
     "data": {
      "text/html": [
       "<div><strong>Dask DataFrame Structure:</strong></div>\n",
       "<div>\n",
       "<style scoped>\n",
       "    .dataframe tbody tr th:only-of-type {\n",
       "        vertical-align: middle;\n",
       "    }\n",
       "\n",
       "    .dataframe tbody tr th {\n",
       "        vertical-align: top;\n",
       "    }\n",
       "\n",
       "    .dataframe thead th {\n",
       "        text-align: right;\n",
       "    }\n",
       "</style>\n",
       "<table border=\"1\" class=\"dataframe\">\n",
       "  <thead>\n",
       "    <tr style=\"text-align: right;\">\n",
       "      <th></th>\n",
       "      <th>Name</th>\n",
       "      <th>Age</th>\n",
       "      <th>Fur</th>\n",
       "    </tr>\n",
       "    <tr>\n",
       "      <th>npartitions=1</th>\n",
       "      <th></th>\n",
       "      <th></th>\n",
       "      <th></th>\n",
       "    </tr>\n",
       "  </thead>\n",
       "  <tbody>\n",
       "    <tr>\n",
       "      <th>0</th>\n",
       "      <td>object</td>\n",
       "      <td>int64</td>\n",
       "      <td>object</td>\n",
       "    </tr>\n",
       "    <tr>\n",
       "      <th>2</th>\n",
       "      <td>...</td>\n",
       "      <td>...</td>\n",
       "      <td>...</td>\n",
       "    </tr>\n",
       "  </tbody>\n",
       "</table>\n",
       "</div>\n",
       "<div>Dask Name: from_pandas, 1 tasks</div>"
      ],
      "text/plain": [
       "Dask DataFrame Structure:\n",
       "                 Name    Age     Fur\n",
       "npartitions=1                       \n",
       "0              object  int64  object\n",
       "2                 ...    ...     ...\n",
       "Dask Name: from_pandas, 1 tasks"
      ]
     },
     "execution_count": 23,
     "metadata": {},
     "output_type": "execute_result"
    }
   ],
   "source": [
    "import dask.dataframe as dd\n",
    "# turn df into a Dask dataframe\n",
    "dask_df = dd.from_pandas(df, npartitions=1)\n",
    "\n",
    "# call the dataframe\n",
    "dask_df"
   ]
  },
  {
   "cell_type": "code",
   "execution_count": 24,
   "id": "5996a32b",
   "metadata": {},
   "outputs": [
    {
     "data": {
      "text/plain": [
       "Dask Series Structure:\n",
       "npartitions=1\n",
       "    float64\n",
       "        ...\n",
       "Name: Age, dtype: float64\n",
       "Dask Name: truediv, 6 tasks"
      ]
     },
     "execution_count": 24,
     "metadata": {},
     "output_type": "execute_result"
    }
   ],
   "source": [
    "# define the same groupby computation as above (no results returned)\n",
    "dask_df.groupby('Fur').Age.mean()\n",
    "# dask does not return the results when call the dataframe"
   ]
  },
  {
   "cell_type": "code",
   "execution_count": 25,
   "id": "1b0f9c58",
   "metadata": {},
   "outputs": [
    {
     "data": {
      "text/plain": [
       "Fur\n",
       "Grey     2.5\n",
       "White    4.0\n",
       "Name: Age, dtype: float64"
      ]
     },
     "execution_count": 25,
     "metadata": {},
     "output_type": "execute_result"
    }
   ],
   "source": [
    "# only when we specifically call .compute() Dask actually perform computation\n",
    "dask_df.groupby('Fur').Age.mean().compute()"
   ]
  },
  {
   "cell_type": "markdown",
   "id": "b64bcd25",
   "metadata": {},
   "source": [
    "# Embarrassingly Parallel"
   ]
  },
  {
   "cell_type": "code",
   "execution_count": 26,
   "id": "993987df",
   "metadata": {},
   "outputs": [],
   "source": [
    "# Lazy evaluation is allows libraries like Dask to optimize large-scale computations \n",
    "# by identifying parts of the computation that are embarrassingly parallel."
   ]
  },
  {
   "cell_type": "markdown",
   "id": "72224ae5",
   "metadata": {},
   "source": [
    "# monte carlo simulation "
   ]
  },
  {
   "cell_type": "code",
   "execution_count": 27,
   "id": "e6b4fcb3",
   "metadata": {},
   "outputs": [
    {
     "name": "stdout",
     "output_type": "stream",
     "text": [
      "5\n",
      "6\n",
      "7\n",
      "8\n",
      "9\n"
     ]
    }
   ],
   "source": [
    "# a simple for loop is an embarrassingly parallel problem\n",
    "# this loop run independently and does not in any way affect the other sampling\n",
    "for i in range(0,5):\n",
    "    x = i + 5\n",
    "    print(x)"
   ]
  },
  {
   "cell_type": "markdown",
   "id": "71c8c013",
   "metadata": {},
   "source": [
    "# Partitions "
   ]
  },
  {
   "cell_type": "code",
   "execution_count": 28,
   "id": "418a6c8c",
   "metadata": {},
   "outputs": [],
   "source": [
    "import dask"
   ]
  },
  {
   "cell_type": "code",
   "execution_count": 32,
   "id": "1ca5ca8d",
   "metadata": {},
   "outputs": [],
   "source": [
    "df = dask.datasets.timeseries(\n",
    "  \"2000-01-01\",\n",
    "  \"2000-01-08\",\n",
    "  freq=\"1h\",\n",
    "  partition_freq=\"1d\"\n",
    ")\n"
   ]
  },
  {
   "cell_type": "code",
   "execution_count": 33,
   "id": "b0060f85",
   "metadata": {},
   "outputs": [
    {
     "data": {
      "text/plain": [
       "(None,)"
      ]
     },
     "execution_count": 33,
     "metadata": {},
     "output_type": "execute_result"
    }
   ],
   "source": [
    "df.to_parquet(\"test.parquet\")\n"
   ]
  },
  {
   "cell_type": "code",
   "execution_count": 39,
   "id": "3fd49f01",
   "metadata": {},
   "outputs": [],
   "source": [
    "import fastparquet as fp\n"
   ]
  },
  {
   "cell_type": "code",
   "execution_count": 44,
   "id": "f6ba4c6a",
   "metadata": {},
   "outputs": [
    {
     "data": {
      "image/png": "[encoded data removed]",
      "text/plain": [
       "<IPython.core.display.Image object>"
      ]
     },
     "execution_count": 44,
     "metadata": {},
     "output_type": "execute_result"
    }
   ],
   "source": [
    "df = dd.read_parquet(\"./test.parquet\")\n",
    "df.visualize()"
   ]
  },
  {
   "cell_type": "code",
   "execution_count": null,
   "id": "d0582f79",
   "metadata": {},
   "outputs": [],
   "source": []
  }
 ],
 "metadata": {
  "kernelspec": {
   "display_name": "tensor",
   "language": "python",
   "name": "tensor"
  },
  "language_info": {
   "codemirror_mode": {
    "name": "ipython",
    "version": 3
   },
   "file_extension": ".py",
   "mimetype": "text/x-python",
   "name": "python",
   "nbconvert_exporter": "python",
   "pygments_lexer": "ipython3",
   "version": "3.8.12"
  }
 },
 "nbformat": 4,
 "nbformat_minor": 5
}
